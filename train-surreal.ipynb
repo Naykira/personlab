{
 "cells": [
  {
   "cell_type": "code",
   "execution_count": 2,
   "metadata": {},
   "outputs": [
    {
     "name": "stderr",
     "output_type": "stream",
     "text": [
      "/home/ubuntu/anaconda3/envs/tensorflow_p36/lib/python3.6/site-packages/h5py/__init__.py:36: FutureWarning: Conversion of the second argument of issubdtype from `float` to `np.floating` is deprecated. In future, it will be treated as `np.float64 == np.dtype(float).type`.\n",
      "  from ._conv import register_converters as _register_converters\n",
      "Using TensorFlow backend.\n"
     ]
    }
   ],
   "source": [
    "%load_ext autoreload\n",
    "%autoreload\n",
    "import surreal, config\n",
    "import tensorflow as tf\n",
    "import numpy as np\n",
    "import keras\n",
    "from keras import layers as KL\n",
    "\n",
    "tf_config = tf.ConfigProto()\n",
    "tf_config.gpu_options.allow_growth=True\n",
    "keras.backend.tensorflow_backend.set_session(tf.Session(config=tf_config))"
   ]
  },
  {
   "cell_type": "code",
   "execution_count": 21,
   "metadata": {},
   "outputs": [
    {
     "name": "stdout",
     "output_type": "stream",
     "text": [
      "Tensor(\"Cast_21:0\", shape=(2, ?, 320, 320, 113), dtype=float32)\n"
     ]
    },
    {
     "data": {
      "text/plain": [
       "<tf.Tensor 'time_distributed_6/transpose_1:0' shape=(2, ?, 11571200) dtype=float32>"
      ]
     },
     "execution_count": 21,
     "metadata": {},
     "output_type": "execute_result"
    }
   ],
   "source": [
    "TENSOR_INFO = [\n",
    "    {\n",
    "        'name': 'image',\n",
    "        'shape': (config.BATCH_SIZE, None, config.TAR_H, config.TAR_W, 3),\n",
    "        'type': tf.uint8,\n",
    "    },{\n",
    "        'name': 'heatmap',\n",
    "        'shape': (config.BATCH_SIZE, None, config.TAR_H, config.TAR_W, config.NUM_KP),\n",
    "        'type': tf.uint8,\n",
    "    },{\n",
    "        'name': 'so_x',\n",
    "        'shape': (config.BATCH_SIZE, None, config.TAR_H, config.TAR_W, config.NUM_KP),\n",
    "        'type': tf.int32,\n",
    "    },{\n",
    "        'name': 'so_y',\n",
    "        'shape': (config.BATCH_SIZE, None, config.TAR_H, config.TAR_W, config.NUM_KP),\n",
    "        'type': tf.int32,\n",
    "    },{\n",
    "        'name': 'mo_x',\n",
    "        'shape': (config.BATCH_SIZE, None, config.TAR_H, config.TAR_W, config.NUM_EDGE),\n",
    "        'type': tf.int32,\n",
    "    },{\n",
    "        'name': 'mo_y',\n",
    "        'shape': (config.BATCH_SIZE, None, config.TAR_H, config.TAR_W, config.NUM_EDGE),\n",
    "        'type': tf.int32,\n",
    "    }]\n",
    "\n",
    "TOTAL_SIZE = sum(info['shape'][-1] for info in TENSOR_INFO)\n",
    "\n",
    "input_tensors = tf.data.Dataset.from_generator(surreal.load, tf.int32) \\\n",
    "                               .batch(config.BATCH_SIZE) \\\n",
    "                               .prefetch(config.PREFETCH_SIZE) \\\n",
    "                               .make_one_shot_iterator() \\\n",
    "                               .get_next()\n",
    "\n",
    "input_tensors.set_shape((config.BATCH_SIZE, None, config.TAR_H, config.TAR_W, TOTAL_SIZE))\n",
    "\n",
    "input_layer = KL.Input(tensor=tf.cast(input_tensors, tf.float32))\n",
    "print(input_layer)\n",
    "input_layer = KL.TimeDistributed(KL.Reshape((320 * 320 * 113,), input_shape=(320, 320, 113)))(input_layer)\n",
    "\n",
    "input_layer"
   ]
  },
  {
   "cell_type": "code",
   "execution_count": 35,
   "metadata": {},
   "outputs": [
    {
     "ename": "NameError",
     "evalue": "name 'input_tensor' is not defined",
     "output_type": "error",
     "traceback": [
      "\u001b[0;31m---------------------------------------------------------------------------\u001b[0m",
      "\u001b[0;31mNameError\u001b[0m                                 Traceback (most recent call last)",
      "\u001b[0;32m<ipython-input-35-a12860bd7819>\u001b[0m in \u001b[0;36m<module>\u001b[0;34m()\u001b[0m\n\u001b[1;32m     37\u001b[0m \u001b[0mcell\u001b[0m \u001b[0;34m=\u001b[0m \u001b[0mResnetCell\u001b[0m\u001b[0;34m(\u001b[0m\u001b[0;36m123\u001b[0m\u001b[0;34m,\u001b[0m \u001b[0;36m234\u001b[0m\u001b[0;34m)\u001b[0m\u001b[0;34m\u001b[0m\u001b[0m\n\u001b[1;32m     38\u001b[0m \u001b[0mlayer\u001b[0m \u001b[0;34m=\u001b[0m \u001b[0mkeras\u001b[0m\u001b[0;34m.\u001b[0m\u001b[0mlayers\u001b[0m\u001b[0;34m.\u001b[0m\u001b[0mRNN\u001b[0m\u001b[0;34m(\u001b[0m\u001b[0mcell\u001b[0m\u001b[0;34m,\u001b[0m \u001b[0mreturn_sequences\u001b[0m\u001b[0;34m=\u001b[0m\u001b[0;32mTrue\u001b[0m\u001b[0;34m)\u001b[0m\u001b[0;34m\u001b[0m\u001b[0m\n\u001b[0;32m---> 39\u001b[0;31m \u001b[0my\u001b[0m \u001b[0;34m=\u001b[0m \u001b[0mlayer\u001b[0m\u001b[0;34m(\u001b[0m\u001b[0minput_layer\u001b[0m\u001b[0;34m)\u001b[0m\u001b[0;34m\u001b[0m\u001b[0m\n\u001b[0m",
      "\u001b[0;32m~/anaconda3/envs/tensorflow_p36/lib/python3.6/site-packages/keras/layers/recurrent.py\u001b[0m in \u001b[0;36m__call__\u001b[0;34m(self, inputs, initial_state, constants, **kwargs)\u001b[0m\n\u001b[1;32m    498\u001b[0m \u001b[0;34m\u001b[0m\u001b[0m\n\u001b[1;32m    499\u001b[0m         \u001b[0;32mif\u001b[0m \u001b[0minitial_state\u001b[0m \u001b[0;32mis\u001b[0m \u001b[0;32mNone\u001b[0m \u001b[0;32mand\u001b[0m \u001b[0mconstants\u001b[0m \u001b[0;32mis\u001b[0m \u001b[0;32mNone\u001b[0m\u001b[0;34m:\u001b[0m\u001b[0;34m\u001b[0m\u001b[0m\n\u001b[0;32m--> 500\u001b[0;31m             \u001b[0;32mreturn\u001b[0m \u001b[0msuper\u001b[0m\u001b[0;34m(\u001b[0m\u001b[0mRNN\u001b[0m\u001b[0;34m,\u001b[0m \u001b[0mself\u001b[0m\u001b[0;34m)\u001b[0m\u001b[0;34m.\u001b[0m\u001b[0m__call__\u001b[0m\u001b[0;34m(\u001b[0m\u001b[0minputs\u001b[0m\u001b[0;34m,\u001b[0m \u001b[0;34m**\u001b[0m\u001b[0mkwargs\u001b[0m\u001b[0;34m)\u001b[0m\u001b[0;34m\u001b[0m\u001b[0m\n\u001b[0m\u001b[1;32m    501\u001b[0m \u001b[0;34m\u001b[0m\u001b[0m\n\u001b[1;32m    502\u001b[0m         \u001b[0;31m# If any of `initial_state` or `constants` are specified and are Keras\u001b[0m\u001b[0;34m\u001b[0m\u001b[0;34m\u001b[0m\u001b[0m\n",
      "\u001b[0;32m~/anaconda3/envs/tensorflow_p36/lib/python3.6/site-packages/keras/engine/topology.py\u001b[0m in \u001b[0;36m__call__\u001b[0;34m(self, inputs, **kwargs)\u001b[0m\n\u001b[1;32m    617\u001b[0m \u001b[0;34m\u001b[0m\u001b[0m\n\u001b[1;32m    618\u001b[0m             \u001b[0;31m# Actually call the layer, collecting output(s), mask(s), and shape(s).\u001b[0m\u001b[0;34m\u001b[0m\u001b[0;34m\u001b[0m\u001b[0m\n\u001b[0;32m--> 619\u001b[0;31m             \u001b[0moutput\u001b[0m \u001b[0;34m=\u001b[0m \u001b[0mself\u001b[0m\u001b[0;34m.\u001b[0m\u001b[0mcall\u001b[0m\u001b[0;34m(\u001b[0m\u001b[0minputs\u001b[0m\u001b[0;34m,\u001b[0m \u001b[0;34m**\u001b[0m\u001b[0mkwargs\u001b[0m\u001b[0;34m)\u001b[0m\u001b[0;34m\u001b[0m\u001b[0m\n\u001b[0m\u001b[1;32m    620\u001b[0m             \u001b[0moutput_mask\u001b[0m \u001b[0;34m=\u001b[0m \u001b[0mself\u001b[0m\u001b[0;34m.\u001b[0m\u001b[0mcompute_mask\u001b[0m\u001b[0;34m(\u001b[0m\u001b[0minputs\u001b[0m\u001b[0;34m,\u001b[0m \u001b[0mprevious_mask\u001b[0m\u001b[0;34m)\u001b[0m\u001b[0;34m\u001b[0m\u001b[0m\n\u001b[1;32m    621\u001b[0m \u001b[0;34m\u001b[0m\u001b[0m\n",
      "\u001b[0;32m~/anaconda3/envs/tensorflow_p36/lib/python3.6/site-packages/keras/layers/recurrent.py\u001b[0m in \u001b[0;36mcall\u001b[0;34m(self, inputs, mask, training, initial_state, constants)\u001b[0m\n\u001b[1;32m    607\u001b[0m                                              \u001b[0mmask\u001b[0m\u001b[0;34m=\u001b[0m\u001b[0mmask\u001b[0m\u001b[0;34m,\u001b[0m\u001b[0;34m\u001b[0m\u001b[0m\n\u001b[1;32m    608\u001b[0m                                              \u001b[0munroll\u001b[0m\u001b[0;34m=\u001b[0m\u001b[0mself\u001b[0m\u001b[0;34m.\u001b[0m\u001b[0munroll\u001b[0m\u001b[0;34m,\u001b[0m\u001b[0;34m\u001b[0m\u001b[0m\n\u001b[0;32m--> 609\u001b[0;31m                                              input_length=timesteps)\n\u001b[0m\u001b[1;32m    610\u001b[0m         \u001b[0;32mif\u001b[0m \u001b[0mself\u001b[0m\u001b[0;34m.\u001b[0m\u001b[0mstateful\u001b[0m\u001b[0;34m:\u001b[0m\u001b[0;34m\u001b[0m\u001b[0m\n\u001b[1;32m    611\u001b[0m             \u001b[0mupdates\u001b[0m \u001b[0;34m=\u001b[0m \u001b[0;34m[\u001b[0m\u001b[0;34m]\u001b[0m\u001b[0;34m\u001b[0m\u001b[0m\n",
      "\u001b[0;32m~/anaconda3/envs/tensorflow_p36/lib/python3.6/site-packages/keras/backend/tensorflow_backend.py\u001b[0m in \u001b[0;36mrnn\u001b[0;34m(step_function, inputs, initial_states, go_backwards, mask, constants, unroll, input_length)\u001b[0m\n\u001b[1;32m   2684\u001b[0m \u001b[0;34m\u001b[0m\u001b[0m\n\u001b[1;32m   2685\u001b[0m         \u001b[0mtime_steps\u001b[0m \u001b[0;34m=\u001b[0m \u001b[0mtf\u001b[0m\u001b[0;34m.\u001b[0m\u001b[0mshape\u001b[0m\u001b[0;34m(\u001b[0m\u001b[0minputs\u001b[0m\u001b[0;34m)\u001b[0m\u001b[0;34m[\u001b[0m\u001b[0;36m0\u001b[0m\u001b[0;34m]\u001b[0m\u001b[0;34m\u001b[0m\u001b[0m\n\u001b[0;32m-> 2686\u001b[0;31m         \u001b[0moutputs\u001b[0m\u001b[0;34m,\u001b[0m \u001b[0m_\u001b[0m \u001b[0;34m=\u001b[0m \u001b[0mstep_function\u001b[0m\u001b[0;34m(\u001b[0m\u001b[0minputs\u001b[0m\u001b[0;34m[\u001b[0m\u001b[0;36m0\u001b[0m\u001b[0;34m]\u001b[0m\u001b[0;34m,\u001b[0m \u001b[0minitial_states\u001b[0m \u001b[0;34m+\u001b[0m \u001b[0mconstants\u001b[0m\u001b[0;34m)\u001b[0m\u001b[0;34m\u001b[0m\u001b[0m\n\u001b[0m\u001b[1;32m   2687\u001b[0m         output_ta = tensor_array_ops.TensorArray(\n\u001b[1;32m   2688\u001b[0m             \u001b[0mdtype\u001b[0m\u001b[0;34m=\u001b[0m\u001b[0moutputs\u001b[0m\u001b[0;34m.\u001b[0m\u001b[0mdtype\u001b[0m\u001b[0;34m,\u001b[0m\u001b[0;34m\u001b[0m\u001b[0m\n",
      "\u001b[0;32m~/anaconda3/envs/tensorflow_p36/lib/python3.6/site-packages/keras/layers/recurrent.py\u001b[0m in \u001b[0;36mstep\u001b[0;34m(inputs, states)\u001b[0m\n\u001b[1;32m    598\u001b[0m         \u001b[0;32melse\u001b[0m\u001b[0;34m:\u001b[0m\u001b[0;34m\u001b[0m\u001b[0m\n\u001b[1;32m    599\u001b[0m             \u001b[0;32mdef\u001b[0m \u001b[0mstep\u001b[0m\u001b[0;34m(\u001b[0m\u001b[0minputs\u001b[0m\u001b[0;34m,\u001b[0m \u001b[0mstates\u001b[0m\u001b[0;34m)\u001b[0m\u001b[0;34m:\u001b[0m\u001b[0;34m\u001b[0m\u001b[0m\n\u001b[0;32m--> 600\u001b[0;31m                 \u001b[0;32mreturn\u001b[0m \u001b[0mself\u001b[0m\u001b[0;34m.\u001b[0m\u001b[0mcell\u001b[0m\u001b[0;34m.\u001b[0m\u001b[0mcall\u001b[0m\u001b[0;34m(\u001b[0m\u001b[0minputs\u001b[0m\u001b[0;34m,\u001b[0m \u001b[0mstates\u001b[0m\u001b[0;34m,\u001b[0m \u001b[0;34m**\u001b[0m\u001b[0mkwargs\u001b[0m\u001b[0;34m)\u001b[0m\u001b[0;34m\u001b[0m\u001b[0m\n\u001b[0m\u001b[1;32m    601\u001b[0m \u001b[0;34m\u001b[0m\u001b[0m\n\u001b[1;32m    602\u001b[0m         last_output, outputs, states = K.rnn(step,\n",
      "\u001b[0;32m<ipython-input-35-a12860bd7819>\u001b[0m in \u001b[0;36mcall\u001b[0;34m(self, inputs, states)\u001b[0m\n\u001b[1;32m     29\u001b[0m         \u001b[0mimg\u001b[0m\u001b[0;34m,\u001b[0m \u001b[0mheatmap\u001b[0m\u001b[0;34m,\u001b[0m \u001b[0mso_x\u001b[0m\u001b[0;34m,\u001b[0m \u001b[0mso_y\u001b[0m\u001b[0;34m,\u001b[0m \u001b[0mmo_x\u001b[0m\u001b[0;34m,\u001b[0m \u001b[0mmo_y\u001b[0m \u001b[0;34m=\u001b[0m \u001b[0msplited\u001b[0m\u001b[0;34m\u001b[0m\u001b[0m\n\u001b[1;32m     30\u001b[0m \u001b[0;34m\u001b[0m\u001b[0m\n\u001b[0;32m---> 31\u001b[0;31m         \u001b[0mtf\u001b[0m\u001b[0;34m.\u001b[0m\u001b[0mimage\u001b[0m\u001b[0;34m.\u001b[0m\u001b[0mresize_bicubic\u001b[0m\u001b[0;34m(\u001b[0m\u001b[0minput_tensor\u001b[0m\u001b[0;34m,\u001b[0m \u001b[0msize\u001b[0m\u001b[0;34m=\u001b[0m\u001b[0;34m(\u001b[0m\u001b[0mconfig\u001b[0m\u001b[0;34m.\u001b[0m\u001b[0mTAR_H\u001b[0m\u001b[0;34m,\u001b[0m \u001b[0mconfig\u001b[0m\u001b[0;34m.\u001b[0m\u001b[0mTAR_W\u001b[0m\u001b[0;34m)\u001b[0m\u001b[0;34m)\u001b[0m\u001b[0;34m\u001b[0m\u001b[0m\n\u001b[0m\u001b[1;32m     32\u001b[0m         \u001b[0mmodel_output\u001b[0m \u001b[0;34m=\u001b[0m \u001b[0mself\u001b[0m\u001b[0;34m.\u001b[0m\u001b[0mmodel\u001b[0m\u001b[0;34m(\u001b[0m\u001b[0mimg\u001b[0m\u001b[0;34m)\u001b[0m\u001b[0;34m\u001b[0m\u001b[0m\n\u001b[1;32m     33\u001b[0m         \u001b[0mprint\u001b[0m\u001b[0;34m(\u001b[0m\u001b[0mmodel_output\u001b[0m\u001b[0;34m)\u001b[0m\u001b[0;34m\u001b[0m\u001b[0m\n",
      "\u001b[0;31mNameError\u001b[0m: name 'input_tensor' is not defined"
     ]
    }
   ],
   "source": [
    "from keras.applications.resnet50 import ResNet50\n",
    "from keras.preprocessing import image\n",
    "from keras.applications.resnet50 import preprocess_input, decode_predictions\n",
    "\n",
    "class ResnetCell(KL.Layer):\n",
    "    def __init__(self, units, state_size, **kwargs):\n",
    "        self.units = units\n",
    "        self.state_size = state_size\n",
    "        super(ResnetCell, self).__init__(**kwargs) \n",
    "\n",
    "    def build(self, input_shape):\n",
    "        self.model = ResNet50(include_top=False)\n",
    "        self.model.outputs = [self.model.layers[-1].output]\n",
    "        self.recurrent_kernel = self.add_weight(\n",
    "            shape=(self.units, self.units),\n",
    "            initializer='uniform',\n",
    "            name='recurrent_kernel')\n",
    "        self.built = True\n",
    "        \n",
    "        self.heatmap_conv = KL.Conv2D(config.NUM_KP, kernel_size=(1, 1), activation='relu')\n",
    "        self.s_off_x_conv = KL.Conv2D(config.NUM_KP, kernel_size=(1, 1))\n",
    "        self.s_off_y_conv = KL.Conv2D(config.NUM_KP, kernel_size=(1, 1))\n",
    "        self.m_off_x_conv = KL.Conv2D(config.NUM_EDGE, kernel_size=(1, 1))\n",
    "        self.m_off_y_conv = KL.Conv2D(config.NUM_EDGE, kernel_size=(1, 1))\n",
    "        \n",
    "    def call(self, inputs, states):\n",
    "        reshaped = KL.Reshape((320, 320, 113), input_shape=(320 * 320 * 113,))(inputs)\n",
    "        splited = tf.split(reshaped, [info['shape'][-1] for info in TENSOR_INFO], axis=-1)\n",
    "        img, heatmap, so_x, so_y, mo_x, mo_y = splited\n",
    "        \n",
    "        tf.image.resize_bicubic(input_tensor, size=(config.TAR_H, config.TAR_W))\n",
    "        model_output = self.model(img)\n",
    "        print(model_output)\n",
    "        return output, [output]\n",
    "    \n",
    "\n",
    "cell = ResnetCell(123, 234)\n",
    "layer = keras.layers.RNN(cell, return_sequences=True)\n",
    "y = layer(input_layer)\n"
   ]
  },
  {
   "cell_type": "code",
   "execution_count": 10,
   "metadata": {},
   "outputs": [
    {
     "data": {
      "text/plain": [
       "[<keras.engine.input_layer.InputLayer at 0x7f1e5e2dd278>,\n",
       " <keras.layers.convolutional.Conv2D at 0x7f1e5e2dd9b0>,\n",
       " <keras.layers.normalization.BatchNormalization at 0x7f1e5e2ddda0>,\n",
       " <keras.layers.core.Activation at 0x7f1e5e2dd128>,\n",
       " <keras.layers.convolutional.DepthwiseConv2D at 0x7f1e5ed19668>,\n",
       " <keras.layers.normalization.BatchNormalization at 0x7f1e5e2b11d0>,\n",
       " <keras.layers.core.Activation at 0x7f1e5e21fe10>,\n",
       " <keras.layers.convolutional.Conv2D at 0x7f1e5e23ef28>,\n",
       " <keras.layers.normalization.BatchNormalization at 0x7f1e5e23ec88>,\n",
       " <keras.layers.convolutional.Conv2D at 0x7f1e5d903400>,\n",
       " <keras.layers.normalization.BatchNormalization at 0x7f1e5d93b978>,\n",
       " <keras.layers.core.Activation at 0x7f1e5d890e48>,\n",
       " <keras.layers.convolutional.DepthwiseConv2D at 0x7f1e5d8727f0>,\n",
       " <keras.layers.normalization.BatchNormalization at 0x7f1e5d785a90>,\n",
       " <keras.layers.core.Activation at 0x7f1e5d76e400>,\n",
       " <keras.layers.convolutional.Conv2D at 0x7f1e5d7117b8>,\n",
       " <keras.layers.normalization.BatchNormalization at 0x7f1e5d7267b8>,\n",
       " <keras.layers.convolutional.Conv2D at 0x7f1e5d6289e8>,\n",
       " <keras.layers.normalization.BatchNormalization at 0x7f1e5d60a748>,\n",
       " <keras.layers.core.Activation at 0x7f1e5d5edd68>,\n",
       " <keras.layers.convolutional.DepthwiseConv2D at 0x7f1e5d54ad30>,\n",
       " <keras.layers.normalization.BatchNormalization at 0x7f1e5d4fe160>,\n",
       " <keras.layers.core.Activation at 0x7f1e5d477fd0>,\n",
       " <keras.layers.convolutional.Conv2D at 0x7f1e5d41bf98>,\n",
       " <keras.layers.normalization.BatchNormalization at 0x7f1e5d41bda0>,\n",
       " <keras.layers.merge.Add at 0x7f1e5d3604e0>,\n",
       " <keras.layers.convolutional.Conv2D at 0x7f1e5d3052e8>,\n",
       " <keras.layers.normalization.BatchNormalization at 0x7f1e5d319a58>,\n",
       " <keras.layers.core.Activation at 0x7f1e5d253160>,\n",
       " <keras.layers.convolutional.DepthwiseConv2D at 0x7f1e5d27b550>,\n",
       " <keras.layers.normalization.BatchNormalization at 0x7f1e5d1fdef0>,\n",
       " <keras.layers.core.Activation at 0x7f1e5d1bc710>,\n",
       " <keras.layers.convolutional.Conv2D at 0x7f1e5d16eac8>,\n",
       " <keras.layers.normalization.BatchNormalization at 0x7f1e5d109ac8>,\n",
       " <keras.layers.convolutional.Conv2D at 0x7f1e5d066d68>,\n",
       " <keras.layers.normalization.BatchNormalization at 0x7f1e5d008cf8>,\n",
       " <keras.layers.core.Activation at 0x7f1e5cf74e48>,\n",
       " <keras.layers.convolutional.DepthwiseConv2D at 0x7f1e5cf5c0f0>,\n",
       " <keras.layers.normalization.BatchNormalization at 0x7f1e5cea3f28>,\n",
       " <keras.layers.core.Activation at 0x7f1e5e315668>,\n",
       " <keras.layers.convolutional.Conv2D at 0x7f1e5e3204e0>,\n",
       " <keras.layers.normalization.BatchNormalization at 0x7f1e5e36b278>,\n",
       " <keras.layers.merge.Add at 0x7f1e5e34fa90>,\n",
       " <keras.layers.convolutional.Conv2D at 0x7f1e5e361c50>,\n",
       " <keras.layers.normalization.BatchNormalization at 0x7f1e5e359cc0>,\n",
       " <keras.layers.core.Activation at 0x7f1e5e3fcc50>,\n",
       " <keras.layers.convolutional.DepthwiseConv2D at 0x7f1e5e385ef0>,\n",
       " <keras.layers.normalization.BatchNormalization at 0x7f1e5e4362e8>,\n",
       " <keras.layers.core.Activation at 0x7f1e5e42be48>,\n",
       " <keras.layers.convolutional.Conv2D at 0x7f1e5e4204a8>,\n",
       " <keras.layers.normalization.BatchNormalization at 0x7f1e5e416c50>,\n",
       " <keras.layers.merge.Add at 0x7f1e5e4598d0>,\n",
       " <keras.layers.convolutional.Conv2D at 0x7f1e5e444ef0>,\n",
       " <keras.layers.normalization.BatchNormalization at 0x7f1e5e49a898>,\n",
       " <keras.layers.core.Activation at 0x7f1e5e491c50>,\n",
       " <keras.layers.convolutional.DepthwiseConv2D at 0x7f1e5e4f1128>,\n",
       " <keras.layers.normalization.BatchNormalization at 0x7f1e5e523d68>,\n",
       " <keras.layers.core.Activation at 0x7f1e5e5237f0>,\n",
       " <keras.layers.convolutional.Conv2D at 0x7f1e5e516cc0>,\n",
       " <keras.layers.normalization.BatchNormalization at 0x7f1e5e50d358>,\n",
       " <keras.layers.convolutional.Conv2D at 0x7f1e5e5b1208>,\n",
       " <keras.layers.normalization.BatchNormalization at 0x7f1e5e5ba940>,\n",
       " <keras.layers.core.Activation at 0x7f1e5e587da0>,\n",
       " <keras.layers.convolutional.DepthwiseConv2D at 0x7f1e5e5c0e10>,\n",
       " <keras.layers.normalization.BatchNormalization at 0x7f1e5e618128>,\n",
       " <keras.layers.core.Activation at 0x7f1e5e60ea20>,\n",
       " <keras.layers.convolutional.Conv2D at 0x7f1e5e601e48>,\n",
       " <keras.layers.normalization.BatchNormalization at 0x7f1e5e6767b8>,\n",
       " <keras.layers.merge.Add at 0x7f1e5e6bb208>,\n",
       " <keras.layers.convolutional.Conv2D at 0x7f1e5e6a3dd8>,\n",
       " <keras.layers.normalization.BatchNormalization at 0x7f1e5e6fd5c0>,\n",
       " <keras.layers.core.Activation at 0x7f1e5e6c8278>,\n",
       " <keras.layers.convolutional.DepthwiseConv2D at 0x7f1e5e734240>,\n",
       " <keras.layers.normalization.BatchNormalization at 0x7f1e5e703c50>,\n",
       " <keras.layers.core.Activation at 0x7f1e5e76cc50>,\n",
       " <keras.layers.convolutional.Conv2D at 0x7f1e5e7594a8>,\n",
       " <keras.layers.normalization.BatchNormalization at 0x7f1e5e778978>,\n",
       " <keras.layers.merge.Add at 0x7f1e5e791198>,\n",
       " <keras.layers.convolutional.Conv2D at 0x7f1e5e7a5a58>,\n",
       " <keras.layers.normalization.BatchNormalization at 0x7f1e5e79b710>,\n",
       " <keras.layers.core.Activation at 0x7f1e5e7ea0b8>,\n",
       " <keras.layers.convolutional.DepthwiseConv2D at 0x7f1e5e7c0cc0>,\n",
       " <keras.layers.normalization.BatchNormalization at 0x7f1e5e7c9c50>,\n",
       " <keras.layers.core.Activation at 0x7f1e5e873c88>,\n",
       " <keras.layers.convolutional.Conv2D at 0x7f1e5e86b6a0>,\n",
       " <keras.layers.normalization.BatchNormalization at 0x7f1e5e862588>,\n",
       " <keras.layers.merge.Add at 0x7f1e5e88d240>,\n",
       " <keras.layers.convolutional.Conv2D at 0x7f1e5e8a1f98>,\n",
       " <keras.layers.normalization.BatchNormalization at 0x7f1e5e896da0>,\n",
       " <keras.layers.core.Activation at 0x7f1e5e8c10f0>,\n",
       " <keras.layers.convolutional.DepthwiseConv2D at 0x7f1e5e8cb5f8>,\n",
       " <keras.layers.normalization.BatchNormalization at 0x7f1e5e9010f0>,\n",
       " <keras.layers.core.Activation at 0x7f1e5e976160>,\n",
       " <keras.layers.convolutional.Conv2D at 0x7f1e5e96dcc0>,\n",
       " <keras.layers.normalization.BatchNormalization at 0x7f1e5e965358>,\n",
       " <keras.layers.convolutional.Conv2D at 0x7f1e5e9aa080>,\n",
       " <keras.layers.normalization.BatchNormalization at 0x7f1e5e98df60>,\n",
       " <keras.layers.core.Activation at 0x7f1e5e9c2860>,\n",
       " <keras.layers.convolutional.DepthwiseConv2D at 0x7f1e5e9f2780>,\n",
       " <keras.layers.normalization.BatchNormalization at 0x7f1e5ea00b38>,\n",
       " <keras.layers.core.Activation at 0x7f1e5ea00630>,\n",
       " <keras.layers.convolutional.Conv2D at 0x7f1e5ea763c8>,\n",
       " <keras.layers.normalization.BatchNormalization at 0x7f1e5ea6c668>,\n",
       " <keras.layers.merge.Add at 0x7f1e5ea995f8>,\n",
       " <keras.layers.convolutional.Conv2D at 0x7f1e5eaabc88>,\n",
       " <keras.layers.normalization.BatchNormalization at 0x7f1e5eaa2b70>,\n",
       " <keras.layers.core.Activation at 0x7f1e5eaf6f28>,\n",
       " <keras.layers.convolutional.DepthwiseConv2D at 0x7f1e5eacd7f0>,\n",
       " <keras.layers.normalization.BatchNormalization at 0x7f1e5eb0c0f0>,\n",
       " <keras.layers.core.Activation at 0x7f1e5eb02b38>,\n",
       " <keras.layers.convolutional.Conv2D at 0x7f1e5eb78b00>,\n",
       " <keras.layers.normalization.BatchNormalization at 0x7f1e5eb70a20>,\n",
       " <keras.layers.merge.Add at 0x7f1e5ebae160>,\n",
       " <keras.layers.convolutional.Conv2D at 0x7f1e5eba3438>,\n",
       " <keras.layers.normalization.BatchNormalization at 0x7f1e5eb805f8>,\n",
       " <keras.layers.core.Activation at 0x7f1e5ebc7080>,\n",
       " <keras.layers.convolutional.DepthwiseConv2D at 0x7f1e5ec3f1d0>,\n",
       " <keras.layers.normalization.BatchNormalization at 0x7f1e5ec0fa20>,\n",
       " <keras.layers.core.Activation at 0x7f1e5ec04b00>,\n",
       " <keras.layers.convolutional.Conv2D at 0x7f1e5ec691d0>,\n",
       " <keras.layers.normalization.BatchNormalization at 0x7f1e5ec7c358>,\n",
       " <keras.layers.convolutional.Conv2D at 0x7f1e5ecb0390>,\n",
       " <keras.layers.normalization.BatchNormalization at 0x7f1e5eca5208>,\n",
       " <keras.layers.core.Activation at 0x7f1e5ecffb00>,\n",
       " <keras.layers.convolutional.DepthwiseConv2D at 0x7f1e5ed3e898>,\n",
       " <keras.layers.normalization.BatchNormalization at 0x7f1e5ed19588>,\n",
       " <keras.layers.core.Activation at 0x7f1e5ed10dd8>,\n",
       " <keras.layers.convolutional.Conv2D at 0x7f1e5ed06860>,\n",
       " <keras.layers.normalization.BatchNormalization at 0x7f1e5ed7d7b8>,\n",
       " <keras.layers.merge.Add at 0x7f1e5eda7ac8>,\n",
       " <keras.layers.convolutional.Conv2D at 0x7f1e5ed44198>,\n",
       " <keras.layers.normalization.BatchNormalization at 0x7f1e5edb3898>,\n",
       " <keras.layers.core.Activation at 0x7f1e5eddbc88>,\n",
       " <keras.layers.convolutional.DepthwiseConv2D at 0x7f1e5edf0320>,\n",
       " <keras.layers.normalization.BatchNormalization at 0x7f1e5ee1c898>,\n",
       " <keras.layers.core.Activation at 0x7f1e5ee12438>,\n",
       " <keras.layers.convolutional.Conv2D at 0x7f1e5ee08ef0>,\n",
       " <keras.layers.normalization.BatchNormalization at 0x7f1e5ee7ee80>,\n",
       " <keras.layers.merge.Add at 0x7f1e5eebe128>,\n",
       " <keras.layers.convolutional.Conv2D at 0x7f1e5eea0cc0>,\n",
       " <keras.layers.normalization.BatchNormalization at 0x7f1e5ee8e860>,\n",
       " <keras.layers.core.Activation at 0x7f1e5ee83a58>,\n",
       " <keras.layers.convolutional.DepthwiseConv2D at 0x7f1e5eeea7f0>,\n",
       " <keras.layers.normalization.BatchNormalization at 0x7f1e5ef1edd8>,\n",
       " <keras.layers.core.Activation at 0x7f1e5ef1e9e8>,\n",
       " <keras.layers.convolutional.Conv2D at 0x7f1e5ef153c8>,\n",
       " <keras.layers.normalization.BatchNormalization at 0x7f1e5ef0b2e8>,\n",
       " <keras.layers.convolutional.Conv2D at 0x7f1e5efb7fd0>,\n",
       " <keras.layers.normalization.BatchNormalization at 0x7f1e5ef40b00>,\n",
       " <keras.layers.core.Activation at 0x7f1e5ef995f8>]"
      ]
     },
     "execution_count": 10,
     "metadata": {},
     "output_type": "execute_result"
    }
   ],
   "source": [
    "\n",
    "mm = keras.applications.mobilenetv2.MobileNetV2(input_shape=(224, 224, 3), weights=None, include_top=False)\n",
    "mm.layers"
   ]
  },
  {
   "cell_type": "code",
   "execution_count": 11,
   "metadata": {},
   "outputs": [
    {
     "data": {
      "text/plain": [
       "<tf.Tensor 'Conv_1_bn_2/cond/Merge:0' shape=(?, 7, 7, 1280) dtype=float32>"
      ]
     },
     "execution_count": 11,
     "metadata": {},
     "output_type": "execute_result"
    }
   ],
   "source": [
    "mm.layers[-2].output"
   ]
  },
  {
   "cell_type": "code",
   "execution_count": 3,
   "metadata": {},
   "outputs": [],
   "source": [
    "from keras.applications.resnet50 import ResNet50\n",
    "from keras.preprocessing import image\n",
    "from keras.applications.resnet50 import preprocess_input, decode_predictions\n",
    "\n",
    "resnet_model = ResNet50(include_top=False,\n",
    "                        input_tensor=tensors['image'],\n",
    "                        weights=None,\n",
    "                        pooling=None,\n",
    "                        )\n",
    "res_out = resnet_model.layers[-2].output"
   ]
  },
  {
   "cell_type": "code",
   "execution_count": 4,
   "metadata": {
    "scrolled": false
   },
   "outputs": [],
   "source": [
    "def bilinear_resize(input_tensor): # resizes input tensor wrt. ref_tensor\n",
    "    return tf.image.resize_bicubic(input_tensor, size=(config.TAR_H, config.TAR_W))\n",
    "\n",
    "heatmap = KL.Conv2D(config.NUM_KP, kernel_size=(1, 1), activation='relu')(res_out)\n",
    "heatmap = KL.Lambda(bilinear_resize)(heatmap)\n",
    "\n",
    "s_off_x = KL.Conv2D(config.NUM_KP, kernel_size=(1, 1))(res_out)\n",
    "s_off_x = KL.Lambda(bilinear_resize)(s_off_x)\n",
    "\n",
    "s_off_y = KL.Conv2D(config.NUM_KP, kernel_size=(1, 1))(res_out)\n",
    "s_off_y = KL.Lambda(bilinear_resize)(s_off_y)\n",
    "\n",
    "m_off_x = KL.Conv2D(config.NUM_EDGE, kernel_size=(1, 1))(res_out)\n",
    "m_off_x = KL.Lambda(bilinear_resize)(m_off_x)\n",
    "\n",
    "m_off_y = KL.Conv2D(config.NUM_EDGE, kernel_size=(1, 1))(res_out)\n",
    "m_off_y = KL.Lambda(bilinear_resize)(m_off_y)\n"
   ]
  },
  {
   "cell_type": "code",
   "execution_count": 5,
   "metadata": {},
   "outputs": [],
   "source": [
    "config.NUM_RECURSIVE = 4\n",
    "\n",
    "def adjust_recursive(args):\n",
    "    s_off_x, s_off_y, m_off_x, m_off_y = args\n",
    "    x = np.expand_dims(np.tile(np.arange(config.TAR_W), [1, config.TAR_H, 1]), axis=-1)\n",
    "    y = np.expand_dims(np.tile(np.arange(config.TAR_H), [1, config.TAR_W, 1]), axis=-1).transpose()\n",
    "    dx = m_off_x + x\n",
    "    dy = m_off_y + y\n",
    "    b_i = np.tile(np.arange(config.BATCH_SIZE), [config.NUM_EDGE, config.TAR_W, config.TAR_H, 1]).transpose()\n",
    "    e_i = np.tile(config.EDGES[..., 0], [config.BATCH_SIZE, config.TAR_W, config.TAR_H, 1])\n",
    "    \n",
    "    for _ in range(config.NUM_RECURSIVE):\n",
    "        dx_i = tf.cast(tf.round(dx), 'int64')\n",
    "        dy_i = tf.cast(tf.round(dy), 'int64')\n",
    "        dx_i = keras.backend.maximum(dx_i, 0)\n",
    "        dx_i = keras.backend.minimum(dx_i, config.TAR_W - 1)\n",
    "        dy_i = keras.backend.maximum(dy_i, 0)\n",
    "        dy_i = keras.backend.minimum(dy_i, config.TAR_H - 1)\n",
    "        ii = tf.stack([b_i, dx_i, dy_i, e_i], axis=-1)\n",
    "        dx = dx + tf.gather_nd(s_off_x, ii)\n",
    "        dy = dy + tf.gather_nd(s_off_y, ii)\n",
    "    m_off_x = dx - x\n",
    "    m_off_y = dy - x\n",
    "    return keras.backend.stack([m_off_x, m_off_y], axis=0)\n",
    "\n",
    "def split_x(res):\n",
    "    return res[0, ...]\n",
    "def split_y(res):\n",
    "    return res[1, ...]\n",
    "\n",
    "res = keras.layers.Lambda(adjust_recursive)([s_off_x, s_off_y, m_off_x, m_off_y])\n",
    "m_off_x = keras.layers.Lambda(split_x)(res)\n",
    "m_off_y = keras.layers.Lambda(split_y)(res)"
   ]
  },
  {
   "cell_type": "code",
   "execution_count": 6,
   "metadata": {},
   "outputs": [
    {
     "data": {
      "text/plain": [
       "array([ 0,  0,  1,  1,  2,  3,  4,  5,  6,  7,  8,  5,  6, 11, 12, 13, 14,\n",
       "        5, 11])"
      ]
     },
     "execution_count": 6,
     "metadata": {},
     "output_type": "execute_result"
    }
   ],
   "source": [
    "config.EDGES[..., 0]"
   ]
  },
  {
   "cell_type": "code",
   "execution_count": 7,
   "metadata": {},
   "outputs": [
    {
     "data": {
      "text/plain": [
       "(<keras.layers.core.Lambda at 0x12a62e6a0>, 0, 0)"
      ]
     },
     "execution_count": 7,
     "metadata": {},
     "output_type": "execute_result"
    }
   ],
   "source": [
    "m_off_x._keras_history"
   ]
  },
  {
   "cell_type": "code",
   "execution_count": 8,
   "metadata": {
    "scrolled": false
   },
   "outputs": [
    {
     "name": "stdout",
     "output_type": "stream",
     "text": [
      "(<tf.Tensor 'IteratorGetNext:0' shape=(2, 401, 401, 3) dtype=uint8>, <tf.Tensor 'IteratorGetNext:1' shape=(2, 401, 401) dtype=uint8>, <tf.Tensor 'IteratorGetNext:2' shape=(2, 401, 401, 17) dtype=uint8>, <tf.Tensor 'IteratorGetNext:3' shape=(2, 401, 401, 17) dtype=int32>, <tf.Tensor 'IteratorGetNext:4' shape=(2, 401, 401, 17) dtype=int32>, <tf.Tensor 'IteratorGetNext:5' shape=(2, 401, 401, 19) dtype=int32>, <tf.Tensor 'IteratorGetNext:6' shape=(2, 401, 401, 19) dtype=int32>)\n"
     ]
    }
   ],
   "source": [
    "\n",
    "losses = []\n",
    "\n",
    "def heatmap_loss(args):\n",
    "    true, pred, exclude_mask = args\n",
    "    loss = keras.backend.binary_crossentropy(tf.cast(true, tf.float32), pred)\n",
    "    loss = keras.backend.mean(loss, axis=-1, keepdims=True)\n",
    "    exclude = tf.expand_dims(tf.cast(exclude_mask, tf.float32), axis=-1)\n",
    "    loss = loss * exclude\n",
    "    loss = keras.backend.sum(loss) / (keras.backend.sum(exclude) + keras.backend.epsilon())\n",
    "    loss = loss * config.HEATMAP_LOSS_WEIGHT\n",
    "    return loss\n",
    "\n",
    "losses.append(keras.layers.Lambda(heatmap_loss)([tensors['heatmap'], heatmap, tensors['exclude_mask']]))\n",
    "\n",
    "def short_offset_loss(args):\n",
    "    true, pred, exclude_mask, true_disc = args\n",
    "    loss = keras.backend.abs(tf.cast(true, tf.float32) - pred) / config.RADIUS\n",
    "    exclude = tf.expand_dims(tf.cast(exclude_mask, tf.float32), axis=-1)\n",
    "    exclude = exclude * tf.cast(true_disc, tf.float32)\n",
    "    loss = loss * exclude\n",
    "    loss = keras.backend.sum(loss) / (keras.backend.sum(exclude) + keras.backend.epsilon())\n",
    "    loss = loss * config.SHORT_OFFSET_LOSS_WEIGHT\n",
    "    return loss\n",
    "\n",
    "losses.append(keras.layers.Lambda(short_offset_loss)([tensors['so_x'], s_off_x, tensors['exclude_mask'], tensors['heatmap']]))\n",
    "losses.append(keras.layers.Lambda(short_offset_loss)([tensors['so_y'], s_off_y, tensors['exclude_mask'], tensors['heatmap']]))\n",
    "\n",
    "def mid_offset_loss(args):\n",
    "    true, pred, exclude_mask, true_disc = args\n",
    "    loss = keras.backend.abs(tf.cast(true, tf.float32) - pred) / config.RADIUS\n",
    "    exclude = tf.expand_dims(tf.cast(exclude_mask, tf.float32), axis=-1)\n",
    "    exclude = exclude * tf.cast(tf.gather(true_disc, config.EDGES[..., 0], axis=-1), tf.float32)\n",
    "    loss = loss * exclude\n",
    "    loss = keras.backend.sum(loss) / (keras.backend.sum(exclude) + keras.backend.epsilon())\n",
    "    loss = loss * config.MIDDLE_OFFSET_LOSS_WEIGHT\n",
    "    return loss\n",
    "\n",
    "losses.append(keras.layers.Lambda(mid_offset_loss)([tensors['mo_x'], m_off_x, tensors['exclude_mask'], tensors['heatmap']]))\n",
    "losses.append(keras.layers.Lambda(mid_offset_loss)([tensors['mo_y'], m_off_y, tensors['exclude_mask'], tensors['heatmap']]))\n",
    "print(input_tensors)\n",
    "model = keras.models.Model(inputs = [tensors[t['name']] for t in TENSOR_INFO],\n",
    "#                           outputs = [heatmap])\n",
    "                           outputs = [heatmap, s_off_x, s_off_y, m_off_x, m_off_y, res_out])"
   ]
  },
  {
   "cell_type": "code",
   "execution_count": 11,
   "metadata": {},
   "outputs": [
    {
     "ename": "ValueError",
     "evalue": "To call `multi_gpu_model` with `gpus=2`, we expect the following devices to be available: ['/cpu:0', '/gpu:0', '/gpu:1']. However this machine only has: ['/cpu:0']. Try reducing `gpus`.",
     "output_type": "error",
     "traceback": [
      "\u001b[0;31m---------------------------------------------------------------------------\u001b[0m",
      "\u001b[0;31mValueError\u001b[0m                                Traceback (most recent call last)",
      "\u001b[0;32m<ipython-input-11-5fb22005dbb2>\u001b[0m in \u001b[0;36m<module>\u001b[0;34m()\u001b[0m\n\u001b[1;32m      1\u001b[0m \u001b[0mconfig\u001b[0m\u001b[0;34m.\u001b[0m\u001b[0mNUM_GPUS\u001b[0m \u001b[0;34m=\u001b[0m \u001b[0;36m2\u001b[0m\u001b[0;34m\u001b[0m\u001b[0m\n\u001b[0;32m----> 2\u001b[0;31m \u001b[0mmodel\u001b[0m \u001b[0;34m=\u001b[0m \u001b[0mkeras\u001b[0m\u001b[0;34m.\u001b[0m\u001b[0mutils\u001b[0m\u001b[0;34m.\u001b[0m\u001b[0mmulti_gpu_model\u001b[0m\u001b[0;34m(\u001b[0m\u001b[0mmodel\u001b[0m\u001b[0;34m,\u001b[0m \u001b[0mconfig\u001b[0m\u001b[0;34m.\u001b[0m\u001b[0mNUM_GPUS\u001b[0m\u001b[0;34m)\u001b[0m\u001b[0;34m\u001b[0m\u001b[0m\n\u001b[0m",
      "\u001b[0;32m~/.virtualenvs/cv/lib/python3.6/site-packages/keras/utils/multi_gpu_utils.py\u001b[0m in \u001b[0;36mmulti_gpu_model\u001b[0;34m(model, gpus, cpu_merge, cpu_relocation)\u001b[0m\n\u001b[1;32m    177\u001b[0m                 'Try reducing `gpus`.' % (gpus,\n\u001b[1;32m    178\u001b[0m                                           \u001b[0mtarget_devices\u001b[0m\u001b[0;34m,\u001b[0m\u001b[0;34m\u001b[0m\u001b[0m\n\u001b[0;32m--> 179\u001b[0;31m                                           available_devices))\n\u001b[0m\u001b[1;32m    180\u001b[0m \u001b[0;34m\u001b[0m\u001b[0m\n\u001b[1;32m    181\u001b[0m     \u001b[0;32mdef\u001b[0m \u001b[0mget_slice\u001b[0m\u001b[0;34m(\u001b[0m\u001b[0mdata\u001b[0m\u001b[0;34m,\u001b[0m \u001b[0mi\u001b[0m\u001b[0;34m,\u001b[0m \u001b[0mparts\u001b[0m\u001b[0;34m)\u001b[0m\u001b[0;34m:\u001b[0m\u001b[0;34m\u001b[0m\u001b[0m\n",
      "\u001b[0;31mValueError\u001b[0m: To call `multi_gpu_model` with `gpus=2`, we expect the following devices to be available: ['/cpu:0', '/gpu:0', '/gpu:1']. However this machine only has: ['/cpu:0']. Try reducing `gpus`."
     ]
    }
   ],
   "source": [
    "if config.NUM_GPUS > 1:\n",
    "    model = keras.utils.multi_gpu_model(model, config.NUM_GPUS)"
   ]
  },
  {
   "cell_type": "code",
   "execution_count": 9,
   "metadata": {
    "scrolled": false
   },
   "outputs": [
    {
     "name": "stdout",
     "output_type": "stream",
     "text": [
      "[<tf.Tensor 'lambda_9/mul_1:0' shape=() dtype=float32>, <tf.Tensor 'lambda_10/mul_2:0' shape=() dtype=float32>, <tf.Tensor 'lambda_11/mul_2:0' shape=() dtype=float32>, <tf.Tensor 'lambda_12/mul_2:0' shape=() dtype=float32>, <tf.Tensor 'lambda_13/mul_2:0' shape=() dtype=float32>]\n"
     ]
    },
    {
     "name": "stderr",
     "output_type": "stream",
     "text": [
      "/Users/minsubsim/.virtualenvs/cv/lib/python3.6/site-packages/ipykernel_launcher.py:6: UserWarning: Output \"lambda_1\" missing from loss dictionary. We assume this was done on purpose, and we will not be expecting any data to be passed to \"lambda_1\" during training.\n",
      "  \n",
      "/Users/minsubsim/.virtualenvs/cv/lib/python3.6/site-packages/ipykernel_launcher.py:6: UserWarning: Output \"lambda_2\" missing from loss dictionary. We assume this was done on purpose, and we will not be expecting any data to be passed to \"lambda_2\" during training.\n",
      "  \n",
      "/Users/minsubsim/.virtualenvs/cv/lib/python3.6/site-packages/ipykernel_launcher.py:6: UserWarning: Output \"lambda_3\" missing from loss dictionary. We assume this was done on purpose, and we will not be expecting any data to be passed to \"lambda_3\" during training.\n",
      "  \n",
      "/Users/minsubsim/.virtualenvs/cv/lib/python3.6/site-packages/ipykernel_launcher.py:6: UserWarning: Output \"lambda_7\" missing from loss dictionary. We assume this was done on purpose, and we will not be expecting any data to be passed to \"lambda_7\" during training.\n",
      "  \n",
      "/Users/minsubsim/.virtualenvs/cv/lib/python3.6/site-packages/ipykernel_launcher.py:6: UserWarning: Output \"lambda_8\" missing from loss dictionary. We assume this was done on purpose, and we will not be expecting any data to be passed to \"lambda_8\" during training.\n",
      "  \n",
      "/Users/minsubsim/.virtualenvs/cv/lib/python3.6/site-packages/ipykernel_launcher.py:6: UserWarning: Output \"activation_49\" missing from loss dictionary. We assume this was done on purpose, and we will not be expecting any data to be passed to \"activation_49\" during training.\n",
      "  \n"
     ]
    },
    {
     "name": "stdout",
     "output_type": "stream",
     "text": [
      "Epoch 1/500\n",
      "loading annotations into memory...\n",
      "Done (t=0.35s)\n",
      "creating index...\n",
      "index created!\n",
      "100/100 [==============================] - 1174s 12s/step - loss: 4.5271\n",
      "Epoch 2/500\n",
      "100/100 [==============================] - 1119s 11s/step - loss: 3.9906\n",
      "Epoch 3/500\n",
      "100/100 [==============================] - 1106s 11s/step - loss: 3.9064\n",
      "Epoch 4/500\n",
      "100/100 [==============================] - 1028s 10s/step - loss: 3.4378\n",
      "Epoch 5/500\n",
      "100/100 [==============================] - 998s 10s/step - loss: 3.1104\n",
      "Epoch 6/500\n",
      "100/100 [==============================] - 991s 10s/step - loss: 2.8752\n",
      "Epoch 7/500\n",
      "100/100 [==============================] - 970s 10s/step - loss: 2.6492\n",
      "Epoch 8/500\n",
      "100/100 [==============================] - 965s 10s/step - loss: 2.4206\n",
      "Epoch 9/500\n",
      " 10/100 [==>...........................] - ETA: 20:37 - loss: 2.4940"
     ]
    },
    {
     "ename": "KeyboardInterrupt",
     "evalue": "",
     "output_type": "error",
     "traceback": [
      "\u001b[0;31m---------------------------------------------------------------------------\u001b[0m",
      "\u001b[0;31mKeyboardInterrupt\u001b[0m                         Traceback (most recent call last)",
      "\u001b[0;32m<ipython-input-9-e232e3b8a877>\u001b[0m in \u001b[0;36m<module>\u001b[0;34m()\u001b[0m\n\u001b[1;32m     12\u001b[0m model.fit(steps_per_epoch=100,\n\u001b[1;32m     13\u001b[0m           \u001b[0mepochs\u001b[0m\u001b[0;34m=\u001b[0m\u001b[0mconfig\u001b[0m\u001b[0;34m.\u001b[0m\u001b[0mNUM_EPOCHS\u001b[0m\u001b[0;34m,\u001b[0m\u001b[0;34m\u001b[0m\u001b[0m\n\u001b[0;32m---> 14\u001b[0;31m           callbacks=callbacks)\n\u001b[0m",
      "\u001b[0;32m~/.virtualenvs/cv/lib/python3.6/site-packages/keras/engine/training.py\u001b[0m in \u001b[0;36mfit\u001b[0;34m(self, x, y, batch_size, epochs, verbose, callbacks, validation_split, validation_data, shuffle, class_weight, sample_weight, initial_epoch, steps_per_epoch, validation_steps, **kwargs)\u001b[0m\n\u001b[1;32m   1703\u001b[0m                               \u001b[0minitial_epoch\u001b[0m\u001b[0;34m=\u001b[0m\u001b[0minitial_epoch\u001b[0m\u001b[0;34m,\u001b[0m\u001b[0;34m\u001b[0m\u001b[0m\n\u001b[1;32m   1704\u001b[0m                               \u001b[0msteps_per_epoch\u001b[0m\u001b[0;34m=\u001b[0m\u001b[0msteps_per_epoch\u001b[0m\u001b[0;34m,\u001b[0m\u001b[0;34m\u001b[0m\u001b[0m\n\u001b[0;32m-> 1705\u001b[0;31m                               validation_steps=validation_steps)\n\u001b[0m\u001b[1;32m   1706\u001b[0m \u001b[0;34m\u001b[0m\u001b[0m\n\u001b[1;32m   1707\u001b[0m     def evaluate(self, x=None, y=None,\n",
      "\u001b[0;32m~/.virtualenvs/cv/lib/python3.6/site-packages/keras/engine/training.py\u001b[0m in \u001b[0;36m_fit_loop\u001b[0;34m(self, f, ins, out_labels, batch_size, epochs, verbose, callbacks, val_f, val_ins, shuffle, callback_metrics, initial_epoch, steps_per_epoch, validation_steps)\u001b[0m\n\u001b[1;32m   1187\u001b[0m                     \u001b[0mbatch_logs\u001b[0m\u001b[0;34m[\u001b[0m\u001b[0;34m'size'\u001b[0m\u001b[0;34m]\u001b[0m \u001b[0;34m=\u001b[0m \u001b[0;36m1\u001b[0m\u001b[0;34m\u001b[0m\u001b[0m\n\u001b[1;32m   1188\u001b[0m                     \u001b[0mcallbacks\u001b[0m\u001b[0;34m.\u001b[0m\u001b[0mon_batch_begin\u001b[0m\u001b[0;34m(\u001b[0m\u001b[0mstep_index\u001b[0m\u001b[0;34m,\u001b[0m \u001b[0mbatch_logs\u001b[0m\u001b[0;34m)\u001b[0m\u001b[0;34m\u001b[0m\u001b[0m\n\u001b[0;32m-> 1189\u001b[0;31m                     \u001b[0mouts\u001b[0m \u001b[0;34m=\u001b[0m \u001b[0mf\u001b[0m\u001b[0;34m(\u001b[0m\u001b[0mins\u001b[0m\u001b[0;34m)\u001b[0m\u001b[0;34m\u001b[0m\u001b[0m\n\u001b[0m\u001b[1;32m   1190\u001b[0m \u001b[0;34m\u001b[0m\u001b[0m\n\u001b[1;32m   1191\u001b[0m                     \u001b[0;32mif\u001b[0m \u001b[0;32mnot\u001b[0m \u001b[0misinstance\u001b[0m\u001b[0;34m(\u001b[0m\u001b[0mouts\u001b[0m\u001b[0;34m,\u001b[0m \u001b[0mlist\u001b[0m\u001b[0;34m)\u001b[0m\u001b[0;34m:\u001b[0m\u001b[0;34m\u001b[0m\u001b[0m\n",
      "\u001b[0;32m~/.virtualenvs/cv/lib/python3.6/site-packages/keras/backend/tensorflow_backend.py\u001b[0m in \u001b[0;36m__call__\u001b[0;34m(self, inputs)\u001b[0m\n\u001b[1;32m   2480\u001b[0m         \u001b[0msession\u001b[0m \u001b[0;34m=\u001b[0m \u001b[0mget_session\u001b[0m\u001b[0;34m(\u001b[0m\u001b[0;34m)\u001b[0m\u001b[0;34m\u001b[0m\u001b[0m\n\u001b[1;32m   2481\u001b[0m         updated = session.run(fetches=fetches, feed_dict=feed_dict,\n\u001b[0;32m-> 2482\u001b[0;31m                               **self.session_kwargs)\n\u001b[0m\u001b[1;32m   2483\u001b[0m         \u001b[0;32mreturn\u001b[0m \u001b[0mupdated\u001b[0m\u001b[0;34m[\u001b[0m\u001b[0;34m:\u001b[0m\u001b[0mlen\u001b[0m\u001b[0;34m(\u001b[0m\u001b[0mself\u001b[0m\u001b[0;34m.\u001b[0m\u001b[0moutputs\u001b[0m\u001b[0;34m)\u001b[0m\u001b[0;34m]\u001b[0m\u001b[0;34m\u001b[0m\u001b[0m\n\u001b[1;32m   2484\u001b[0m \u001b[0;34m\u001b[0m\u001b[0m\n",
      "\u001b[0;32m~/.virtualenvs/cv/lib/python3.6/site-packages/tensorflow/python/client/session.py\u001b[0m in \u001b[0;36mrun\u001b[0;34m(self, fetches, feed_dict, options, run_metadata)\u001b[0m\n\u001b[1;32m    898\u001b[0m     \u001b[0;32mtry\u001b[0m\u001b[0;34m:\u001b[0m\u001b[0;34m\u001b[0m\u001b[0m\n\u001b[1;32m    899\u001b[0m       result = self._run(None, fetches, feed_dict, options_ptr,\n\u001b[0;32m--> 900\u001b[0;31m                          run_metadata_ptr)\n\u001b[0m\u001b[1;32m    901\u001b[0m       \u001b[0;32mif\u001b[0m \u001b[0mrun_metadata\u001b[0m\u001b[0;34m:\u001b[0m\u001b[0;34m\u001b[0m\u001b[0m\n\u001b[1;32m    902\u001b[0m         \u001b[0mproto_data\u001b[0m \u001b[0;34m=\u001b[0m \u001b[0mtf_session\u001b[0m\u001b[0;34m.\u001b[0m\u001b[0mTF_GetBuffer\u001b[0m\u001b[0;34m(\u001b[0m\u001b[0mrun_metadata_ptr\u001b[0m\u001b[0;34m)\u001b[0m\u001b[0;34m\u001b[0m\u001b[0m\n",
      "\u001b[0;32m~/.virtualenvs/cv/lib/python3.6/site-packages/tensorflow/python/client/session.py\u001b[0m in \u001b[0;36m_run\u001b[0;34m(self, handle, fetches, feed_dict, options, run_metadata)\u001b[0m\n\u001b[1;32m   1133\u001b[0m     \u001b[0;32mif\u001b[0m \u001b[0mfinal_fetches\u001b[0m \u001b[0;32mor\u001b[0m \u001b[0mfinal_targets\u001b[0m \u001b[0;32mor\u001b[0m \u001b[0;34m(\u001b[0m\u001b[0mhandle\u001b[0m \u001b[0;32mand\u001b[0m \u001b[0mfeed_dict_tensor\u001b[0m\u001b[0;34m)\u001b[0m\u001b[0;34m:\u001b[0m\u001b[0;34m\u001b[0m\u001b[0m\n\u001b[1;32m   1134\u001b[0m       results = self._do_run(handle, final_targets, final_fetches,\n\u001b[0;32m-> 1135\u001b[0;31m                              feed_dict_tensor, options, run_metadata)\n\u001b[0m\u001b[1;32m   1136\u001b[0m     \u001b[0;32melse\u001b[0m\u001b[0;34m:\u001b[0m\u001b[0;34m\u001b[0m\u001b[0m\n\u001b[1;32m   1137\u001b[0m       \u001b[0mresults\u001b[0m \u001b[0;34m=\u001b[0m \u001b[0;34m[\u001b[0m\u001b[0;34m]\u001b[0m\u001b[0;34m\u001b[0m\u001b[0m\n",
      "\u001b[0;32m~/.virtualenvs/cv/lib/python3.6/site-packages/tensorflow/python/client/session.py\u001b[0m in \u001b[0;36m_do_run\u001b[0;34m(self, handle, target_list, fetch_list, feed_dict, options, run_metadata)\u001b[0m\n\u001b[1;32m   1314\u001b[0m     \u001b[0;32mif\u001b[0m \u001b[0mhandle\u001b[0m \u001b[0;32mis\u001b[0m \u001b[0;32mNone\u001b[0m\u001b[0;34m:\u001b[0m\u001b[0;34m\u001b[0m\u001b[0m\n\u001b[1;32m   1315\u001b[0m       return self._do_call(_run_fn, feeds, fetches, targets, options,\n\u001b[0;32m-> 1316\u001b[0;31m                            run_metadata)\n\u001b[0m\u001b[1;32m   1317\u001b[0m     \u001b[0;32melse\u001b[0m\u001b[0;34m:\u001b[0m\u001b[0;34m\u001b[0m\u001b[0m\n\u001b[1;32m   1318\u001b[0m       \u001b[0;32mreturn\u001b[0m \u001b[0mself\u001b[0m\u001b[0;34m.\u001b[0m\u001b[0m_do_call\u001b[0m\u001b[0;34m(\u001b[0m\u001b[0m_prun_fn\u001b[0m\u001b[0;34m,\u001b[0m \u001b[0mhandle\u001b[0m\u001b[0;34m,\u001b[0m \u001b[0mfeeds\u001b[0m\u001b[0;34m,\u001b[0m \u001b[0mfetches\u001b[0m\u001b[0;34m)\u001b[0m\u001b[0;34m\u001b[0m\u001b[0m\n",
      "\u001b[0;32m~/.virtualenvs/cv/lib/python3.6/site-packages/tensorflow/python/client/session.py\u001b[0m in \u001b[0;36m_do_call\u001b[0;34m(self, fn, *args)\u001b[0m\n\u001b[1;32m   1320\u001b[0m   \u001b[0;32mdef\u001b[0m \u001b[0m_do_call\u001b[0m\u001b[0;34m(\u001b[0m\u001b[0mself\u001b[0m\u001b[0;34m,\u001b[0m \u001b[0mfn\u001b[0m\u001b[0;34m,\u001b[0m \u001b[0;34m*\u001b[0m\u001b[0margs\u001b[0m\u001b[0;34m)\u001b[0m\u001b[0;34m:\u001b[0m\u001b[0;34m\u001b[0m\u001b[0m\n\u001b[1;32m   1321\u001b[0m     \u001b[0;32mtry\u001b[0m\u001b[0;34m:\u001b[0m\u001b[0;34m\u001b[0m\u001b[0m\n\u001b[0;32m-> 1322\u001b[0;31m       \u001b[0;32mreturn\u001b[0m \u001b[0mfn\u001b[0m\u001b[0;34m(\u001b[0m\u001b[0;34m*\u001b[0m\u001b[0margs\u001b[0m\u001b[0;34m)\u001b[0m\u001b[0;34m\u001b[0m\u001b[0m\n\u001b[0m\u001b[1;32m   1323\u001b[0m     \u001b[0;32mexcept\u001b[0m \u001b[0merrors\u001b[0m\u001b[0;34m.\u001b[0m\u001b[0mOpError\u001b[0m \u001b[0;32mas\u001b[0m \u001b[0me\u001b[0m\u001b[0;34m:\u001b[0m\u001b[0;34m\u001b[0m\u001b[0m\n\u001b[1;32m   1324\u001b[0m       \u001b[0mmessage\u001b[0m \u001b[0;34m=\u001b[0m \u001b[0mcompat\u001b[0m\u001b[0;34m.\u001b[0m\u001b[0mas_text\u001b[0m\u001b[0;34m(\u001b[0m\u001b[0me\u001b[0m\u001b[0;34m.\u001b[0m\u001b[0mmessage\u001b[0m\u001b[0;34m)\u001b[0m\u001b[0;34m\u001b[0m\u001b[0m\n",
      "\u001b[0;32m~/.virtualenvs/cv/lib/python3.6/site-packages/tensorflow/python/client/session.py\u001b[0m in \u001b[0;36m_run_fn\u001b[0;34m(feed_dict, fetch_list, target_list, options, run_metadata)\u001b[0m\n\u001b[1;32m   1305\u001b[0m       \u001b[0mself\u001b[0m\u001b[0;34m.\u001b[0m\u001b[0m_extend_graph\u001b[0m\u001b[0;34m(\u001b[0m\u001b[0;34m)\u001b[0m\u001b[0;34m\u001b[0m\u001b[0m\n\u001b[1;32m   1306\u001b[0m       return self._call_tf_sessionrun(\n\u001b[0;32m-> 1307\u001b[0;31m           options, feed_dict, fetch_list, target_list, run_metadata)\n\u001b[0m\u001b[1;32m   1308\u001b[0m \u001b[0;34m\u001b[0m\u001b[0m\n\u001b[1;32m   1309\u001b[0m     \u001b[0;32mdef\u001b[0m \u001b[0m_prun_fn\u001b[0m\u001b[0;34m(\u001b[0m\u001b[0mhandle\u001b[0m\u001b[0;34m,\u001b[0m \u001b[0mfeed_dict\u001b[0m\u001b[0;34m,\u001b[0m \u001b[0mfetch_list\u001b[0m\u001b[0;34m)\u001b[0m\u001b[0;34m:\u001b[0m\u001b[0;34m\u001b[0m\u001b[0m\n",
      "\u001b[0;32m~/.virtualenvs/cv/lib/python3.6/site-packages/tensorflow/python/client/session.py\u001b[0m in \u001b[0;36m_call_tf_sessionrun\u001b[0;34m(self, options, feed_dict, fetch_list, target_list, run_metadata)\u001b[0m\n\u001b[1;32m   1407\u001b[0m       return tf_session.TF_SessionRun_wrapper(\n\u001b[1;32m   1408\u001b[0m           \u001b[0mself\u001b[0m\u001b[0;34m.\u001b[0m\u001b[0m_session\u001b[0m\u001b[0;34m,\u001b[0m \u001b[0moptions\u001b[0m\u001b[0;34m,\u001b[0m \u001b[0mfeed_dict\u001b[0m\u001b[0;34m,\u001b[0m \u001b[0mfetch_list\u001b[0m\u001b[0;34m,\u001b[0m \u001b[0mtarget_list\u001b[0m\u001b[0;34m,\u001b[0m\u001b[0;34m\u001b[0m\u001b[0m\n\u001b[0;32m-> 1409\u001b[0;31m           run_metadata)\n\u001b[0m\u001b[1;32m   1410\u001b[0m     \u001b[0;32melse\u001b[0m\u001b[0;34m:\u001b[0m\u001b[0;34m\u001b[0m\u001b[0m\n\u001b[1;32m   1411\u001b[0m       \u001b[0;32mwith\u001b[0m \u001b[0merrors\u001b[0m\u001b[0;34m.\u001b[0m\u001b[0mraise_exception_on_not_ok_status\u001b[0m\u001b[0;34m(\u001b[0m\u001b[0;34m)\u001b[0m \u001b[0;32mas\u001b[0m \u001b[0mstatus\u001b[0m\u001b[0;34m:\u001b[0m\u001b[0;34m\u001b[0m\u001b[0m\n",
      "\u001b[0;31mKeyboardInterrupt\u001b[0m: "
     ]
    }
   ],
   "source": [
    "config.NUM_EPOCHS = 500\n",
    "print(losses)\n",
    "for loss in losses:\n",
    "    model.add_loss(loss)\n",
    "SAVE_MODEL_FILE = 'model_output'\n",
    "model.compile(optimizer=keras.optimizers.Adam(), target_tensors=None, loss=None)\n",
    "\n",
    "def save_model(epoch, logs):\n",
    "    model.save_weights(SAVE_MODEL_FILE)\n",
    "callbacks = [keras.callbacks.LambdaCallback(on_epoch_end=save_model)]\n",
    "\n",
    "model.fit(steps_per_epoch=100,\n",
    "          epochs=config.NUM_EPOCHS,\n",
    "          callbacks=callbacks)"
   ]
  },
  {
   "cell_type": "code",
   "execution_count": null,
   "metadata": {},
   "outputs": [],
   "source": [
    "outputs = model.predict(x=None,\n",
    "                       steps=1,)"
   ]
  },
  {
   "cell_type": "code",
   "execution_count": null,
   "metadata": {},
   "outputs": [],
   "source": [
    "outputs.shape"
   ]
  },
  {
   "cell_type": "code",
   "execution_count": null,
   "metadata": {},
   "outputs": [],
   "source": [
    "from matplotlib import pyplot as plt\n",
    "\n",
    "def overlay(img, over, alpha=0.5):\n",
    "    out = img.copy()\n",
    "    if img.max() > 1.:\n",
    "        out = out / 255.\n",
    "    out *= 1-alpha\n",
    "    if len(over.shape)==2:\n",
    "        out += alpha*over[:,:,np.newaxis]\n",
    "    else:\n",
    "        out += alpha*over    \n",
    "    return out\n",
    "Rshoulder_map = outputs[0,:,:,0]\n",
    "print(Rshoulder_map)\n",
    "plt.figure()\n",
    "plt.imshow(overlay(img, Rshoulder_map, alpha=0.7))"
   ]
  },
  {
   "cell_type": "code",
   "execution_count": null,
   "metadata": {},
   "outputs": [],
   "source": [
    "t1 = np.full((config.NUM_KP, 3), 2)\n",
    "t2 = np.full(config.NUM_KP, 0)"
   ]
  },
  {
   "cell_type": "code",
   "execution_count": null,
   "metadata": {},
   "outputs": [],
   "source": [
    "t1[np.arange(config.NUM_KP), t2[np.arange(config.NUM_KP)]:]"
   ]
  },
  {
   "cell_type": "code",
   "execution_count": null,
   "metadata": {},
   "outputs": [],
   "source": []
  }
 ],
 "metadata": {
  "kernelspec": {
   "display_name": "Python 3",
   "language": "python",
   "name": "python3"
  }
 },
 "nbformat": 4,
 "nbformat_minor": 2
}
