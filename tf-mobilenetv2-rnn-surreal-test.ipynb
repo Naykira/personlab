{
 "cells": [
  {
   "cell_type": "code",
   "execution_count": 1,
   "metadata": {},
   "outputs": [
    {
     "name": "stderr",
     "output_type": "stream",
     "text": [
      "/home/ubuntu/anaconda3/envs/tensorflow_p36/lib/python3.6/site-packages/h5py/__init__.py:36: FutureWarning: Conversion of the second argument of issubdtype from `float` to `np.floating` is deprecated. In future, it will be treated as `np.float64 == np.dtype(float).type`.\n",
      "  from ._conv import register_converters as _register_converters\n"
     ]
    },
    {
     "data": {
      "text/plain": [
       "'\\nfor x in surreal.load():\\n    print(x)\\n    break\\n'"
      ]
     },
     "execution_count": 1,
     "metadata": {},
     "output_type": "execute_result"
    }
   ],
   "source": [
    "%load_ext autoreload\n",
    "%autoreload\n",
    "import tensorflow as tf\n",
    "import numpy as np\n",
    "import surreal, config\n",
    "import functools, operator, copy\n",
    "import tensorflow.contrib.slim as slim\n",
    "from nets.resnet_v2 import resnet_v2_101\n",
    "from nets.mobilenet import mobilenet_v2\n",
    "from tensor_info import INPUT_TENSOR_INFO, OUTPUT_TENSOR_INFO\n",
    "tf.reset_default_graph()\n",
    "'''\n",
    "for x in surreal.load():\n",
    "    print(x)\n",
    "    break\n",
    "'''"
   ]
  },
  {
   "cell_type": "code",
   "execution_count": 2,
   "metadata": {},
   "outputs": [],
   "source": [
    "types = tuple(t['type'] for t in INPUT_TENSOR_INFO)\n",
    "\n",
    "with tf.device('/cpu:0'):\n",
    "    input_tensors = tf.data.Dataset.from_generator(surreal.load, types) \\\n",
    "                                   .batch(config.BATCH_SIZE) \\\n",
    "                                   .prefetch(config.PREFETCH_SIZE) \\\n",
    "                                   .make_one_shot_iterator() \\\n",
    "                                   .get_next()\n",
    "    tensors = {}\n",
    "    for tensor, info in zip(input_tensors, INPUT_TENSOR_INFO):\n",
    "        tensor.set_shape(info['shape'])\n",
    "        tensors[info['name']] = tensor"
   ]
  },
  {
   "cell_type": "code",
   "execution_count": 3,
   "metadata": {
    "scrolled": true
   },
   "outputs": [],
   "source": [
    "config.STRIDE = 16\n",
    "\n",
    "MD_H = int(config.TAR_H/config.STRIDE)\n",
    "MD_W = int(config.TAR_W/config.STRIDE)\n",
    "\n",
    "DEPTH = [ti['shape'][-1] for ti in OUTPUT_TENSOR_INFO]\n",
    "RESULT_SHAPE = (config.BATCH_SIZE, MD_H, MD_W, sum(DEPTH))\n",
    "RESULT_SIZE = functools.reduce(operator.mul, RESULT_SHAPE[1:])\n",
    "OUTPUT_SHAPE = (config.BATCH_SIZE, config.TAR_H, config.TAR_W, sum(DEPTH))\n",
    "OUTPUT_SIZE = functools.reduce(operator.mul, OUTPUT_SHAPE[1:])\n"
   ]
  },
  {
   "cell_type": "code",
   "execution_count": 4,
   "metadata": {},
   "outputs": [],
   "source": [
    "def bilinear(indices):\n",
    "    oy = tf.clip_by_value(indices[1], 0, MD_H-1)\n",
    "    ox = tf.clip_by_value(indices[2], 0, MD_W-1)\n",
    "    iy = [tf.floor(oy), tf.ceil(oy)]\n",
    "    ix = [tf.floor(ox), tf.ceil(ox)]\n",
    "    idx_p = []\n",
    "    for y_i in range(2):\n",
    "        for x_i in range(2):\n",
    "            indices[1] = iy[y_i]\n",
    "            indices[2] = ix[x_i]\n",
    "            idx = tf.cast(tf.stack(indices, axis=-1), tf.int32)\n",
    "            p = (1 - tf.abs(iy[y_i] - oy)) * (1 - tf.abs(ix[x_i] - ox))\n",
    "            idx_p.append((idx, p))\n",
    "    return idx_p\n",
    "\n",
    "def gather_bilinear(params, indices):\n",
    "    idx_p = bilinear(indices)\n",
    "    res = []\n",
    "    for idx, p in idx_p:\n",
    "        r = tf.gather_nd(params, idx)\n",
    "        res.append(r * p)\n",
    "    return tf.add_n(res)\n",
    "\n",
    "def scatter_bilinear(params, indices, shape):\n",
    "    idx_p = bilinear(indices)\n",
    "    res = []\n",
    "    for idx, p in idx_p:\n",
    "        r = tf.scatter_nd(idx, params, shape)\n",
    "        if len(r.shape) > len(p.shape):\n",
    "            p = tf.expand_dims(p, axis=-1)\n",
    "        res.append(r * p)\n",
    "    return tf.add_n(res)"
   ]
  },
  {
   "cell_type": "code",
   "execution_count": 5,
   "metadata": {},
   "outputs": [],
   "source": [
    "class TestCell(tf.contrib.rnn.RNNCell):\n",
    "    def __init__(self, is_training):\n",
    "        super().__init__(self)\n",
    "        self.is_training = is_training\n",
    "        \n",
    "    def resize(self, tensor):\n",
    "        return tf.image.resize_images(\n",
    "            tensor,\n",
    "            (config.TAR_H, config.TAR_W),\n",
    "            method=tf.image.ResizeMethod.BICUBIC,\n",
    "            align_corners=True)\n",
    "    \n",
    "    def __call__(self, frame_tensor, state):\n",
    "        model_output, _ = mobilenet_v2.mobilenet_base(frame_tensor, output_stride=config.STRIDE)\n",
    "        state = tf.reshape(state, RESULT_SHAPE)\n",
    "        \n",
    "        model_output = tf.concat([model_output, state], axis=-1)\n",
    "        _, so_x_prev, so_y_prev, mo_x_prev, mo_y_prev = tf.split(state, DEPTH, axis=-1)\n",
    "        \n",
    "        hm_pred = slim.conv2d(model_output, config.NUM_KP, [1, 1])\n",
    "        so_x_pred = slim.conv2d(model_output, config.NUM_KP, [1, 1]) + so_x_prev\n",
    "        so_y_pred = slim.conv2d(model_output, config.NUM_KP, [1, 1]) + so_y_prev\n",
    "        mo_x_pred = slim.conv2d(model_output, config.NUM_EDGE, [1, 1]) + mo_x_prev\n",
    "        mo_y_pred = slim.conv2d(model_output, config.NUM_EDGE, [1, 1]) + mo_y_prev\n",
    "        \n",
    "        mv_x_pred = tf.squeeze(slim.conv2d(model_output, 1, [1, 1]), axis=[-1])\n",
    "        mv_y_pred = tf.squeeze(slim.conv2d(model_output, 1, [1, 1]), axis=[-1])\n",
    "        \n",
    "        b, y, x = np.mgrid[:config.BATCH_SIZE, :MD_H, :MD_W]\n",
    "        mv_p = [b, y + mv_y_pred, x + mv_x_pred]\n",
    "        \n",
    "        hm_expect = scatter_bilinear(hm_pred, mv_p, hm_pred.shape)\n",
    "        so_x_expect = scatter_bilinear(so_x_pred, mv_p, so_x_pred.shape)\n",
    "        so_y_expect = scatter_bilinear(so_y_pred, mv_p, so_y_pred.shape)\n",
    "        \n",
    "        b, y, x, i = np.mgrid[:config.BATCH_SIZE, :MD_H, :MD_W, :config.NUM_EDGE]\n",
    "        for _ in range(config.NUM_RECURRENT):\n",
    "            mo_p = [b, y+mo_y_pred, x+mo_x_pred, i]\n",
    "            mo_x_pred = gather_bilinear(so_x_pred, mo_p) + mo_x_pred\n",
    "            mo_y_pred = gather_bilinear(so_y_pred, mo_p) + mo_y_pred\n",
    "        \n",
    "        mo_p = [b, y+mo_y_pred, x+mo_x_pred]\n",
    "        mo_x_expect_in_cp = gather_bilinear(mv_x_pred, mo_p) + \\\n",
    "                            mo_x_pred - tf.expand_dims(mv_x_pred, axis=-1)\n",
    "        mo_y_expect_in_cp = gather_bilinear(mv_y_pred, mo_p) + \\\n",
    "                            mo_y_pred - tf.expand_dims(mv_y_pred, axis=-1)\n",
    "        mo_x_expect = scatter_bilinear(mo_x_expect_in_cp, mv_p, mo_x_pred.shape)\n",
    "        mo_y_expect = scatter_bilinear(mo_y_expect_in_cp, mv_p, mo_y_pred.shape)\n",
    "        \n",
    "        next_state = tf.concat([hm_expect, so_x_expect, so_y_expect, mo_x_expect, mo_y_expect], axis=-1)\n",
    "        next_state = tf.reshape(next_state, [config.BATCH_SIZE, RESULT_SIZE])\n",
    "        output = tf.concat([hm_pred, \\\n",
    "                            so_x_pred*config.STRIDE, so_y_pred*config.STRIDE, \\\n",
    "                            mo_x_pred*config.STRIDE, mo_y_pred*config.STRIDE], axis=-1)\n",
    "        output = self.resize(output)\n",
    "        output = tf.reshape(output, [config.BATCH_SIZE, OUTPUT_SIZE])\n",
    "        \n",
    "        return output, next_state\n",
    "\n",
    "    @property\n",
    "    def state_size(self):\n",
    "        return RESULT_SIZE\n",
    "\n",
    "    @property\n",
    "    def output_size(self):\n",
    "        return OUTPUT_SIZE\n"
   ]
  },
  {
   "cell_type": "code",
   "execution_count": 6,
   "metadata": {
    "scrolled": true
   },
   "outputs": [],
   "source": [
    "\n",
    "test_cell = TestCell(is_training=True)\n",
    "#with tf.contrib.slim.arg_scope(mobilenet_v2.training_scope(is_training=True)):\n",
    "with tf.device('/cpu:0'):\n",
    "    pred_sum, _ = tf.nn.dynamic_rnn(test_cell, tensors['image'], sequence_length=tensors['seq_len'], dtype=tf.float32)"
   ]
  },
  {
   "cell_type": "code",
   "execution_count": 7,
   "metadata": {},
   "outputs": [],
   "source": [
    "TOTAL_SHAPE = (config.BATCH_SIZE, config.MAX_FRAME_SIZE, config.TAR_H, config.TAR_W, sum(DEPTH))\n",
    "pred_sum = tf.reshape(pred_sum, TOTAL_SHAPE)\n",
    "hm_out, so_x_out, so_y_out, mo_x_out, mo_y_out = tf.split(pred_sum, DEPTH, axis=-1)"
   ]
  },
  {
   "cell_type": "code",
   "execution_count": 8,
   "metadata": {
    "scrolled": false
   },
   "outputs": [
    {
     "name": "stdout",
     "output_type": "stream",
     "text": [
      "INFO:tensorflow:Restoring parameters from logs/log_test/model.ckpt-12133\n"
     ]
    },
    {
     "ename": "InternalError",
     "evalue": "Dst tensor is not initialized.\n\t [[Node: rnn/transpose_1/_1 = _Recv[client_terminated=false, recv_device=\"/job:localhost/replica:0/task:0/device:GPU:0\", send_device=\"/job:localhost/replica:0/task:0/device:CPU:0\", send_device_incarnation=1, tensor_name=\"edge_610_rnn/transpose_1\", tensor_type=DT_FLOAT, _device=\"/job:localhost/replica:0/task:0/device:GPU:0\"]()]]",
     "output_type": "error",
     "traceback": [
      "\u001b[0;31m---------------------------------------------------------------------------\u001b[0m",
      "\u001b[0;31mInternalError\u001b[0m                             Traceback (most recent call last)",
      "\u001b[0;32m~/anaconda3/envs/tensorflow_p36/lib/python3.6/site-packages/tensorflow/python/client/session.py\u001b[0m in \u001b[0;36m_do_call\u001b[0;34m(self, fn, *args)\u001b[0m\n\u001b[1;32m   1321\u001b[0m     \u001b[0;32mtry\u001b[0m\u001b[0;34m:\u001b[0m\u001b[0;34m\u001b[0m\u001b[0m\n\u001b[0;32m-> 1322\u001b[0;31m       \u001b[0;32mreturn\u001b[0m \u001b[0mfn\u001b[0m\u001b[0;34m(\u001b[0m\u001b[0;34m*\u001b[0m\u001b[0margs\u001b[0m\u001b[0;34m)\u001b[0m\u001b[0;34m\u001b[0m\u001b[0m\n\u001b[0m\u001b[1;32m   1323\u001b[0m     \u001b[0;32mexcept\u001b[0m \u001b[0merrors\u001b[0m\u001b[0;34m.\u001b[0m\u001b[0mOpError\u001b[0m \u001b[0;32mas\u001b[0m \u001b[0me\u001b[0m\u001b[0;34m:\u001b[0m\u001b[0;34m\u001b[0m\u001b[0m\n",
      "\u001b[0;32m~/anaconda3/envs/tensorflow_p36/lib/python3.6/site-packages/tensorflow/python/client/session.py\u001b[0m in \u001b[0;36m_run_fn\u001b[0;34m(feed_dict, fetch_list, target_list, options, run_metadata)\u001b[0m\n\u001b[1;32m   1306\u001b[0m       return self._call_tf_sessionrun(\n\u001b[0;32m-> 1307\u001b[0;31m           options, feed_dict, fetch_list, target_list, run_metadata)\n\u001b[0m\u001b[1;32m   1308\u001b[0m \u001b[0;34m\u001b[0m\u001b[0m\n",
      "\u001b[0;32m~/anaconda3/envs/tensorflow_p36/lib/python3.6/site-packages/tensorflow/python/client/session.py\u001b[0m in \u001b[0;36m_call_tf_sessionrun\u001b[0;34m(self, options, feed_dict, fetch_list, target_list, run_metadata)\u001b[0m\n\u001b[1;32m   1408\u001b[0m           \u001b[0mself\u001b[0m\u001b[0;34m.\u001b[0m\u001b[0m_session\u001b[0m\u001b[0;34m,\u001b[0m \u001b[0moptions\u001b[0m\u001b[0;34m,\u001b[0m \u001b[0mfeed_dict\u001b[0m\u001b[0;34m,\u001b[0m \u001b[0mfetch_list\u001b[0m\u001b[0;34m,\u001b[0m \u001b[0mtarget_list\u001b[0m\u001b[0;34m,\u001b[0m\u001b[0;34m\u001b[0m\u001b[0m\n\u001b[0;32m-> 1409\u001b[0;31m           run_metadata)\n\u001b[0m\u001b[1;32m   1410\u001b[0m     \u001b[0;32melse\u001b[0m\u001b[0;34m:\u001b[0m\u001b[0;34m\u001b[0m\u001b[0m\n",
      "\u001b[0;31mInternalError\u001b[0m: Dst tensor is not initialized.\n\t [[Node: rnn/transpose_1/_1 = _Recv[client_terminated=false, recv_device=\"/job:localhost/replica:0/task:0/device:GPU:0\", send_device=\"/job:localhost/replica:0/task:0/device:CPU:0\", send_device_incarnation=1, tensor_name=\"edge_610_rnn/transpose_1\", tensor_type=DT_FLOAT, _device=\"/job:localhost/replica:0/task:0/device:GPU:0\"]()]]",
      "\nDuring handling of the above exception, another exception occurred:\n",
      "\u001b[0;31mInternalError\u001b[0m                             Traceback (most recent call last)",
      "\u001b[0;32m<ipython-input-8-ed2f350545db>\u001b[0m in \u001b[0;36m<module>\u001b[0;34m()\u001b[0m\n\u001b[1;32m      5\u001b[0m         \u001b[0mcheckpoint_path\u001b[0m \u001b[0;34m=\u001b[0m \u001b[0;34m'logs/log_test/model.ckpt-12133'\u001b[0m\u001b[0;34m\u001b[0m\u001b[0m\n\u001b[1;32m      6\u001b[0m         \u001b[0msaver\u001b[0m\u001b[0;34m.\u001b[0m\u001b[0mrestore\u001b[0m\u001b[0;34m(\u001b[0m\u001b[0msess\u001b[0m\u001b[0;34m,\u001b[0m \u001b[0mcheckpoint_path\u001b[0m\u001b[0;34m)\u001b[0m\u001b[0;34m\u001b[0m\u001b[0m\n\u001b[0;32m----> 7\u001b[0;31m         \u001b[0mres\u001b[0m \u001b[0;34m=\u001b[0m \u001b[0msess\u001b[0m\u001b[0;34m.\u001b[0m\u001b[0mrun\u001b[0m\u001b[0;34m(\u001b[0m\u001b[0;34m[\u001b[0m\u001b[0mtensors\u001b[0m\u001b[0;34m[\u001b[0m\u001b[0;34m'image'\u001b[0m\u001b[0;34m]\u001b[0m\u001b[0;34m,\u001b[0m \u001b[0mhm_out\u001b[0m\u001b[0;34m]\u001b[0m\u001b[0;34m)\u001b[0m\u001b[0;34m\u001b[0m\u001b[0m\n\u001b[0m",
      "\u001b[0;32m~/anaconda3/envs/tensorflow_p36/lib/python3.6/site-packages/tensorflow/python/client/session.py\u001b[0m in \u001b[0;36mrun\u001b[0;34m(self, fetches, feed_dict, options, run_metadata)\u001b[0m\n\u001b[1;32m    898\u001b[0m     \u001b[0;32mtry\u001b[0m\u001b[0;34m:\u001b[0m\u001b[0;34m\u001b[0m\u001b[0m\n\u001b[1;32m    899\u001b[0m       result = self._run(None, fetches, feed_dict, options_ptr,\n\u001b[0;32m--> 900\u001b[0;31m                          run_metadata_ptr)\n\u001b[0m\u001b[1;32m    901\u001b[0m       \u001b[0;32mif\u001b[0m \u001b[0mrun_metadata\u001b[0m\u001b[0;34m:\u001b[0m\u001b[0;34m\u001b[0m\u001b[0m\n\u001b[1;32m    902\u001b[0m         \u001b[0mproto_data\u001b[0m \u001b[0;34m=\u001b[0m \u001b[0mtf_session\u001b[0m\u001b[0;34m.\u001b[0m\u001b[0mTF_GetBuffer\u001b[0m\u001b[0;34m(\u001b[0m\u001b[0mrun_metadata_ptr\u001b[0m\u001b[0;34m)\u001b[0m\u001b[0;34m\u001b[0m\u001b[0m\n",
      "\u001b[0;32m~/anaconda3/envs/tensorflow_p36/lib/python3.6/site-packages/tensorflow/python/client/session.py\u001b[0m in \u001b[0;36m_run\u001b[0;34m(self, handle, fetches, feed_dict, options, run_metadata)\u001b[0m\n\u001b[1;32m   1133\u001b[0m     \u001b[0;32mif\u001b[0m \u001b[0mfinal_fetches\u001b[0m \u001b[0;32mor\u001b[0m \u001b[0mfinal_targets\u001b[0m \u001b[0;32mor\u001b[0m \u001b[0;34m(\u001b[0m\u001b[0mhandle\u001b[0m \u001b[0;32mand\u001b[0m \u001b[0mfeed_dict_tensor\u001b[0m\u001b[0;34m)\u001b[0m\u001b[0;34m:\u001b[0m\u001b[0;34m\u001b[0m\u001b[0m\n\u001b[1;32m   1134\u001b[0m       results = self._do_run(handle, final_targets, final_fetches,\n\u001b[0;32m-> 1135\u001b[0;31m                              feed_dict_tensor, options, run_metadata)\n\u001b[0m\u001b[1;32m   1136\u001b[0m     \u001b[0;32melse\u001b[0m\u001b[0;34m:\u001b[0m\u001b[0;34m\u001b[0m\u001b[0m\n\u001b[1;32m   1137\u001b[0m       \u001b[0mresults\u001b[0m \u001b[0;34m=\u001b[0m \u001b[0;34m[\u001b[0m\u001b[0;34m]\u001b[0m\u001b[0;34m\u001b[0m\u001b[0m\n",
      "\u001b[0;32m~/anaconda3/envs/tensorflow_p36/lib/python3.6/site-packages/tensorflow/python/client/session.py\u001b[0m in \u001b[0;36m_do_run\u001b[0;34m(self, handle, target_list, fetch_list, feed_dict, options, run_metadata)\u001b[0m\n\u001b[1;32m   1314\u001b[0m     \u001b[0;32mif\u001b[0m \u001b[0mhandle\u001b[0m \u001b[0;32mis\u001b[0m \u001b[0;32mNone\u001b[0m\u001b[0;34m:\u001b[0m\u001b[0;34m\u001b[0m\u001b[0m\n\u001b[1;32m   1315\u001b[0m       return self._do_call(_run_fn, feeds, fetches, targets, options,\n\u001b[0;32m-> 1316\u001b[0;31m                            run_metadata)\n\u001b[0m\u001b[1;32m   1317\u001b[0m     \u001b[0;32melse\u001b[0m\u001b[0;34m:\u001b[0m\u001b[0;34m\u001b[0m\u001b[0m\n\u001b[1;32m   1318\u001b[0m       \u001b[0;32mreturn\u001b[0m \u001b[0mself\u001b[0m\u001b[0;34m.\u001b[0m\u001b[0m_do_call\u001b[0m\u001b[0;34m(\u001b[0m\u001b[0m_prun_fn\u001b[0m\u001b[0;34m,\u001b[0m \u001b[0mhandle\u001b[0m\u001b[0;34m,\u001b[0m \u001b[0mfeeds\u001b[0m\u001b[0;34m,\u001b[0m \u001b[0mfetches\u001b[0m\u001b[0;34m)\u001b[0m\u001b[0;34m\u001b[0m\u001b[0m\n",
      "\u001b[0;32m~/anaconda3/envs/tensorflow_p36/lib/python3.6/site-packages/tensorflow/python/client/session.py\u001b[0m in \u001b[0;36m_do_call\u001b[0;34m(self, fn, *args)\u001b[0m\n\u001b[1;32m   1333\u001b[0m         \u001b[0;32mexcept\u001b[0m \u001b[0mKeyError\u001b[0m\u001b[0;34m:\u001b[0m\u001b[0;34m\u001b[0m\u001b[0m\n\u001b[1;32m   1334\u001b[0m           \u001b[0;32mpass\u001b[0m\u001b[0;34m\u001b[0m\u001b[0m\n\u001b[0;32m-> 1335\u001b[0;31m       \u001b[0;32mraise\u001b[0m \u001b[0mtype\u001b[0m\u001b[0;34m(\u001b[0m\u001b[0me\u001b[0m\u001b[0;34m)\u001b[0m\u001b[0;34m(\u001b[0m\u001b[0mnode_def\u001b[0m\u001b[0;34m,\u001b[0m \u001b[0mop\u001b[0m\u001b[0;34m,\u001b[0m \u001b[0mmessage\u001b[0m\u001b[0;34m)\u001b[0m\u001b[0;34m\u001b[0m\u001b[0m\n\u001b[0m\u001b[1;32m   1336\u001b[0m \u001b[0;34m\u001b[0m\u001b[0m\n\u001b[1;32m   1337\u001b[0m   \u001b[0;32mdef\u001b[0m \u001b[0m_extend_graph\u001b[0m\u001b[0;34m(\u001b[0m\u001b[0mself\u001b[0m\u001b[0;34m)\u001b[0m\u001b[0;34m:\u001b[0m\u001b[0;34m\u001b[0m\u001b[0m\n",
      "\u001b[0;31mInternalError\u001b[0m: Dst tensor is not initialized.\n\t [[Node: rnn/transpose_1/_1 = _Recv[client_terminated=false, recv_device=\"/job:localhost/replica:0/task:0/device:GPU:0\", send_device=\"/job:localhost/replica:0/task:0/device:CPU:0\", send_device_incarnation=1, tensor_name=\"edge_610_rnn/transpose_1\", tensor_type=DT_FLOAT, _device=\"/job:localhost/replica:0/task:0/device:GPU:0\"]()]]"
     ]
    }
   ],
   "source": [
    "\n",
    "saver = tf.train.Saver()\n",
    "with tf.device('/cpu:0'):\n",
    "    with tf.Session() as sess:\n",
    "        checkpoint_path = 'logs/log_test/model.ckpt-12133'\n",
    "        saver.restore(sess, checkpoint_path)\n",
    "        res = sess.run([tensors['image'], hm_out])\n"
   ]
  },
  {
   "cell_type": "code",
   "execution_count": null,
   "metadata": {},
   "outputs": [],
   "source": []
  },
  {
   "cell_type": "code",
   "execution_count": null,
   "metadata": {},
   "outputs": [],
   "source": []
  }
 ],
 "metadata": {
  "kernelspec": {
   "display_name": "Python 3",
   "language": "python",
   "name": "python3"
  },
  "language_info": {
   "codemirror_mode": {
    "name": "ipython",
    "version": 3
   },
   "file_extension": ".py",
   "mimetype": "text/x-python",
   "name": "python",
   "nbconvert_exporter": "python",
   "pygments_lexer": "ipython3",
   "version": "3.6.4"
  }
 },
 "nbformat": 4,
 "nbformat_minor": 2
}
