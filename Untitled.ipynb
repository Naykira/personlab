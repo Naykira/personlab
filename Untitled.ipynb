{
 "cells": [
  {
   "cell_type": "code",
   "execution_count": 1,
   "metadata": {},
   "outputs": [
    {
     "name": "stderr",
     "output_type": "stream",
     "text": [
      "/home/ubuntu/anaconda3/envs/tensorflow_p36/lib/python3.6/site-packages/h5py/__init__.py:36: FutureWarning: Conversion of the second argument of issubdtype from `float` to `np.floating` is deprecated. In future, it will be treated as `np.float64 == np.dtype(float).type`.\n",
      "  from ._conv import register_converters as _register_converters\n",
      "/home/ubuntu/anaconda3/envs/tensorflow_p36/lib/python3.6/site-packages/matplotlib/__init__.py:1067: UserWarning: Duplicate key in file \"/home/ubuntu/.config/matplotlib/matplotlibrc\", line #2\n",
      "  (fname, cnt))\n",
      "/home/ubuntu/anaconda3/envs/tensorflow_p36/lib/python3.6/site-packages/matplotlib/__init__.py:1067: UserWarning: Duplicate key in file \"/home/ubuntu/.config/matplotlib/matplotlibrc\", line #3\n",
      "  (fname, cnt))\n",
      "Using TensorFlow backend.\n"
     ]
    }
   ],
   "source": [
    "%load_ext autoreload\n",
    "%autoreload\n",
    "import dataset, config\n",
    "import tensorflow as tf\n",
    "import numpy as np\n",
    "import keras\n",
    "\n",
    "tf_config = tf.ConfigProto()\n",
    "tf_config.gpu_options.allow_growth=True\n",
    "keras.backend.tensorflow_backend.set_session(tf.Session(config=tf_config))"
   ]
  },
  {
   "cell_type": "code",
   "execution_count": 2,
   "metadata": {},
   "outputs": [
    {
     "name": "stdout",
     "output_type": "stream",
     "text": [
      "(<tf.Tensor 'IteratorGetNext:0' shape=<unknown> dtype=uint8>, <tf.Tensor 'IteratorGetNext:1' shape=<unknown> dtype=uint8>, <tf.Tensor 'IteratorGetNext:2' shape=<unknown> dtype=uint8>, <tf.Tensor 'IteratorGetNext:3' shape=<unknown> dtype=int32>, <tf.Tensor 'IteratorGetNext:4' shape=<unknown> dtype=int32>, <tf.Tensor 'IteratorGetNext:5' shape=<unknown> dtype=int32>, <tf.Tensor 'IteratorGetNext:6' shape=<unknown> dtype=int32>)\n"
     ]
    },
    {
     "data": {
      "text/plain": [
       "{'image': <tf.Tensor 'Cast:0' shape=(?, 401, 401, 3) dtype=float32>,\n",
       " 'exclude_mask': <tf.Tensor 'Cast_1:0' shape=(?, 401, 401) dtype=float32>,\n",
       " 'heatmap': <tf.Tensor 'Cast_2:0' shape=(?, 401, 401, 17) dtype=float32>,\n",
       " 'so_x': <tf.Tensor 'Cast_3:0' shape=(?, 401, 401, 17) dtype=float32>,\n",
       " 'so_y': <tf.Tensor 'Cast_4:0' shape=(?, 401, 401, 17) dtype=float32>,\n",
       " 'mo_x': <tf.Tensor 'Cast_5:0' shape=(?, 401, 401, 19) dtype=float32>,\n",
       " 'mo_y': <tf.Tensor 'Cast_6:0' shape=(?, 401, 401, 19) dtype=float32>}"
      ]
     },
     "execution_count": 2,
     "metadata": {},
     "output_type": "execute_result"
    }
   ],
   "source": [
    "\n",
    "TENSOR_INFO = [\n",
    "    {\n",
    "        'name': 'image',\n",
    "        'shape': (None, config.TAR_H, config.TAR_W, 3),\n",
    "        'type': tf.uint8,\n",
    "    },{\n",
    "        'name': 'exclude_mask',\n",
    "        'shape': (None, config.TAR_H, config.TAR_W),\n",
    "        'type': tf.uint8,\n",
    "    },{\n",
    "        'name': 'heatmap',\n",
    "        'shape': (None, config.TAR_H, config.TAR_W, config.NUM_KP),\n",
    "        'type': tf.uint8,\n",
    "    },{\n",
    "        'name': 'so_x',\n",
    "        'shape': (None, config.TAR_H, config.TAR_W, config.NUM_KP),\n",
    "        'type': tf.int32,\n",
    "    },{\n",
    "        'name': 'so_y',\n",
    "        'shape': (None, config.TAR_H, config.TAR_W, config.NUM_KP),\n",
    "        'type': tf.int32,\n",
    "    },{\n",
    "        'name': 'mo_x',\n",
    "        'shape': (None, config.TAR_H, config.TAR_W, config.NUM_EDGE),\n",
    "        'type': tf.int32,\n",
    "    },{\n",
    "        'name': 'mo_y',\n",
    "        'shape': (None, config.TAR_H, config.TAR_W, config.NUM_EDGE),\n",
    "        'type': tf.int32,\n",
    "    }]\n",
    "\n",
    "types = tuple(t['type'] for t in TENSOR_INFO)\n",
    "input_tensors = tf.data.Dataset.from_generator(dataset.load, types) \\\n",
    "                               .batch(config.BATCH_SIZE) \\\n",
    "                               .prefetch(config.PREFETCH_SIZE) \\\n",
    "                               .make_one_shot_iterator() \\\n",
    "                               .get_next()\n",
    "print(input_tensors)\n",
    "\n",
    " \n",
    "tensors = {}\n",
    "for i, t in zip(input_tensors, TENSOR_INFO):\n",
    "    i.set_shape(t['shape'])\n",
    "    tensors[t['name']] = keras.layers.Input(tensor=tf.cast(i, tf.float32))\n",
    "tensors"
   ]
  },
  {
   "cell_type": "code",
   "execution_count": 3,
   "metadata": {},
   "outputs": [],
   "source": [
    "from keras.applications.resnet50 import ResNet50\n",
    "from keras.preprocessing import image\n",
    "from keras.applications.resnet50 import preprocess_input, decode_predictions\n",
    "\n",
    "resnet_model = ResNet50(include_top=False,\n",
    "                        input_tensor=tensors['image'],\n",
    "                        weights=None,\n",
    "                        pooling=None,\n",
    "                        )\n",
    "res_out = resnet_model.layers[-2].output"
   ]
  },
  {
   "cell_type": "code",
   "execution_count": 4,
   "metadata": {
    "scrolled": false
   },
   "outputs": [],
   "source": [
    "def bilinear_resize(input_tensor): # resizes input tensor wrt. ref_tensor\n",
    "    return tf.image.resize_bicubic(input_tensor, size=(config.TAR_H, config.TAR_W))\n",
    "\n",
    "heatmap = keras.layers.Conv2D(config.NUM_KP, kernel_size=(1, 1), activation='relu')(res_out)\n",
    "heatmap = keras.layers.Lambda(bilinear_resize)(heatmap)\n",
    "\n",
    "s_off_x = keras.layers.Conv2D(config.NUM_KP, kernel_size=(1, 1))(res_out)\n",
    "s_off_x = keras.layers.Lambda(bilinear_resize)(s_off_x)\n",
    "\n",
    "s_off_y = keras.layers.Conv2D(config.NUM_KP, kernel_size=(1, 1))(res_out)\n",
    "s_off_y = keras.layers.Lambda(bilinear_resize)(s_off_y)\n",
    "\n",
    "m_off_x = keras.layers.Conv2D(config.NUM_EDGE, kernel_size=(1, 1))(res_out)\n",
    "m_off_x = keras.layers.Lambda(bilinear_resize)(m_off_x)\n",
    "\n",
    "m_off_y = keras.layers.Conv2D(config.NUM_EDGE, kernel_size=(1, 1))(res_out)\n",
    "m_off_y = keras.layers.Lambda(bilinear_resize)(m_off_y)\n"
   ]
  },
  {
   "cell_type": "code",
   "execution_count": 5,
   "metadata": {
    "scrolled": false
   },
   "outputs": [
    {
     "name": "stdout",
     "output_type": "stream",
     "text": [
      "(<tf.Tensor 'IteratorGetNext:0' shape=(?, 401, 401, 3) dtype=uint8>, <tf.Tensor 'IteratorGetNext:1' shape=(?, 401, 401) dtype=uint8>, <tf.Tensor 'IteratorGetNext:2' shape=(?, 401, 401, 17) dtype=uint8>, <tf.Tensor 'IteratorGetNext:3' shape=(?, 401, 401, 17) dtype=int32>, <tf.Tensor 'IteratorGetNext:4' shape=(?, 401, 401, 17) dtype=int32>, <tf.Tensor 'IteratorGetNext:5' shape=(?, 401, 401, 19) dtype=int32>, <tf.Tensor 'IteratorGetNext:6' shape=(?, 401, 401, 19) dtype=int32>)\n"
     ]
    }
   ],
   "source": [
    "config.HEATMAP_LOSS_WEIGHT = 4.0\n",
    "config.SHORT_OFFSET_LOSS_WEIGHT = 1.0\n",
    "config.MIDDLE_OFFSET_LOSS_WEIGHT = 0.5\n",
    "\n",
    "config.MIDDLE_DISC_MAP = list(range(config.NUM_EDGE))\n",
    "losses = []\n",
    "\n",
    "def heatmap_loss(args):\n",
    "    true, pred, exclude_mask = args\n",
    "    loss = keras.backend.binary_crossentropy(tf.cast(true, tf.float32), pred)\n",
    "    loss = keras.backend.mean(loss, axis=-1, keepdims=True)\n",
    "    exclude = tf.expand_dims(tf.cast(exclude_mask, tf.float32), axis=-1)\n",
    "    loss = loss * exclude\n",
    "    loss = keras.backend.sum(loss) / (keras.backend.sum(exclude) + keras.backend.epsilon())\n",
    "    loss = loss * config.HEATMAP_LOSS_WEIGHT\n",
    "    return loss\n",
    "\n",
    "losses.append(keras.layers.Lambda(heatmap_loss)([tensors['heatmap'], heatmap, tensors['exclude_mask']]))\n",
    "\n",
    "def short_offset_loss(args):\n",
    "    true, pred, exclude_mask, true_disc = args\n",
    "    loss = keras.backend.abs(tf.cast(true, tf.float32) - pred) / config.RADIUS\n",
    "    exclude = tf.expand_dims(tf.cast(exclude_mask, tf.float32), axis=-1)\n",
    "    exclude = exclude * tf.cast(true_disc, tf.float32)\n",
    "    loss = loss * exclude\n",
    "    loss = keras.backend.sum(loss) / (keras.backend.sum(exclude) + keras.backend.epsilon())\n",
    "    loss = loss * config.SHORT_OFFSET_LOSS_WEIGHT\n",
    "    return loss\n",
    "\n",
    "losses.append(keras.layers.Lambda(short_offset_loss)([tensors['so_x'], s_off_x, tensors['exclude_mask'], tensors['heatmap']]))\n",
    "losses.append(keras.layers.Lambda(short_offset_loss)([tensors['so_y'], s_off_y, tensors['exclude_mask'], tensors['heatmap']]))\n",
    "\n",
    "def mid_offset_loss(args):\n",
    "    true, pred, exclude_mask, true_disc = args\n",
    "    loss = keras.backend.abs(tf.cast(true, tf.float32) - pred) / config.RADIUS\n",
    "    exclude = tf.expand_dims(tf.cast(exclude_mask, tf.float32), axis=-1)\n",
    "    exclude = exclude * tf.cast(tf.gather(true_disc, config.MIDDLE_DISC_MAP, axis=-1), tf.float32)\n",
    "    loss = loss * exclude\n",
    "    loss = keras.backend.sum(loss) / (keras.backend.sum(exclude) + keras.backend.epsilon())\n",
    "    loss = loss * config.MIDDLE_OFFSET_LOSS_WEIGHT\n",
    "    return loss\n",
    "\n",
    "losses.append(keras.layers.Lambda(mid_offset_loss)([tensors['mo_x'], m_off_x, tensors['exclude_mask'], tensors['heatmap']]))\n",
    "losses.append(keras.layers.Lambda(mid_offset_loss)([tensors['mo_y'], m_off_y, tensors['exclude_mask'], tensors['heatmap']]))\n",
    "print(input_tensors)\n",
    "model = keras.models.Model(inputs = [tensors[t['name']] for t in TENSOR_INFO],\n",
    "#                           outputs = [heatmap])\n",
    "                           outputs = [heatmap, s_off_x, s_off_y, m_off_x, m_off_y])"
   ]
  },
  {
   "cell_type": "code",
   "execution_count": null,
   "metadata": {
    "scrolled": false
   },
   "outputs": [
    {
     "name": "stdout",
     "output_type": "stream",
     "text": [
      "[<tf.Tensor 'lambda_6/mul_1:0' shape=() dtype=float32>, <tf.Tensor 'lambda_7/mul_2:0' shape=() dtype=float32>, <tf.Tensor 'lambda_8/mul_2:0' shape=() dtype=float32>, <tf.Tensor 'lambda_9/mul_2:0' shape=() dtype=float32>, <tf.Tensor 'lambda_10/mul_2:0' shape=() dtype=float32>]\n"
     ]
    },
    {
     "name": "stderr",
     "output_type": "stream",
     "text": [
      "/home/ubuntu/anaconda3/envs/tensorflow_p36/lib/python3.6/site-packages/ipykernel_launcher.py:6: UserWarning: Output \"lambda_1\" missing from loss dictionary. We assume this was done on purpose, and we will not be expecting any data to be passed to \"lambda_1\" during training.\n",
      "  \n",
      "/home/ubuntu/anaconda3/envs/tensorflow_p36/lib/python3.6/site-packages/ipykernel_launcher.py:6: UserWarning: Output \"lambda_2\" missing from loss dictionary. We assume this was done on purpose, and we will not be expecting any data to be passed to \"lambda_2\" during training.\n",
      "  \n",
      "/home/ubuntu/anaconda3/envs/tensorflow_p36/lib/python3.6/site-packages/ipykernel_launcher.py:6: UserWarning: Output \"lambda_3\" missing from loss dictionary. We assume this was done on purpose, and we will not be expecting any data to be passed to \"lambda_3\" during training.\n",
      "  \n",
      "/home/ubuntu/anaconda3/envs/tensorflow_p36/lib/python3.6/site-packages/ipykernel_launcher.py:6: UserWarning: Output \"lambda_4\" missing from loss dictionary. We assume this was done on purpose, and we will not be expecting any data to be passed to \"lambda_4\" during training.\n",
      "  \n",
      "/home/ubuntu/anaconda3/envs/tensorflow_p36/lib/python3.6/site-packages/ipykernel_launcher.py:6: UserWarning: Output \"lambda_5\" missing from loss dictionary. We assume this was done on purpose, and we will not be expecting any data to be passed to \"lambda_5\" during training.\n",
      "  \n"
     ]
    },
    {
     "name": "stdout",
     "output_type": "stream",
     "text": [
      "Epoch 1/500\n",
      "loading annotations into memory...\n",
      "Done (t=7.20s)\n",
      "creating index...\n",
      "index created!\n",
      "100/100 [==============================] - 146s 1s/step - loss: 2.7719\n",
      "Epoch 2/500\n",
      "100/100 [==============================] - 123s 1s/step - loss: 2.4030\n",
      "Epoch 3/500\n",
      "100/100 [==============================] - 123s 1s/step - loss: 2.2470\n",
      "Epoch 4/500\n",
      "100/100 [==============================] - 123s 1s/step - loss: 2.4805\n",
      "Epoch 5/500\n",
      " 47/100 [=============>................] - ETA: 1:04 - loss: 2.1862"
     ]
    }
   ],
   "source": [
    "config.NUM_EPOCHS = 500\n",
    "print(losses)\n",
    "for loss in losses:\n",
    "    model.add_loss(loss)\n",
    "SAVE_MODEL_FILE = 'model_output'\n",
    "model.compile(optimizer=keras.optimizers.Adam(), target_tensors=None, loss=None)\n",
    "\n",
    "def save_model(epoch, logs):\n",
    "    model.save_weights(SAVE_MODEL_FILE)\n",
    "callbacks = [keras.callbacks.LambdaCallback(on_epoch_end=save_model)]\n",
    "\n",
    "model.fit(steps_per_epoch=100,\n",
    "          epochs=config.NUM_EPOCHS,\n",
    "          callbacks=callbacks)"
   ]
  },
  {
   "cell_type": "code",
   "execution_count": null,
   "metadata": {},
   "outputs": [],
   "source": [
    "outputs = model.predict(x=None,\n",
    "                       steps=1,)"
   ]
  },
  {
   "cell_type": "code",
   "execution_count": null,
   "metadata": {},
   "outputs": [],
   "source": [
    "outputs.shape"
   ]
  },
  {
   "cell_type": "code",
   "execution_count": null,
   "metadata": {},
   "outputs": [],
   "source": [
    "from matplotlib import pyplot as plt\n",
    "\n",
    "def overlay(img, over, alpha=0.5):\n",
    "    out = img.copy()\n",
    "    if img.max() > 1.:\n",
    "        out = out / 255.\n",
    "    out *= 1-alpha\n",
    "    if len(over.shape)==2:\n",
    "        out += alpha*over[:,:,np.newaxis]\n",
    "    else:\n",
    "        out += alpha*over    \n",
    "    return out\n",
    "Rshoulder_map = outputs[0,:,:,0]\n",
    "print(Rshoulder_map)\n",
    "plt.figure()\n",
    "plt.imshow(overlay(img, Rshoulder_map, alpha=0.7))"
   ]
  },
  {
   "cell_type": "code",
   "execution_count": null,
   "metadata": {},
   "outputs": [],
   "source": [
    "t1 = np.full((config.NUM_KP, 3), 2)\n",
    "t2 = np.full(config.NUM_KP, 0)"
   ]
  },
  {
   "cell_type": "code",
   "execution_count": null,
   "metadata": {},
   "outputs": [],
   "source": [
    "t1[np.arange(config.NUM_KP), t2[np.arange(config.NUM_KP)]:]"
   ]
  },
  {
   "cell_type": "code",
   "execution_count": null,
   "metadata": {},
   "outputs": [],
   "source": []
  }
 ],
 "metadata": {
  "kernelspec": {
   "display_name": "Python 3",
   "language": "python",
   "name": "python3"
  },
  "language_info": {
   "codemirror_mode": {
    "name": "ipython",
    "version": 3
   },
   "file_extension": ".py",
   "mimetype": "text/x-python",
   "name": "python",
   "nbconvert_exporter": "python",
   "pygments_lexer": "ipython3",
   "version": "3.6.4"
  }
 },
 "nbformat": 4,
 "nbformat_minor": 2
}
