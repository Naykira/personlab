{
 "cells": [
  {
   "cell_type": "code",
   "execution_count": 1,
   "metadata": {},
   "outputs": [
    {
     "name": "stderr",
     "output_type": "stream",
     "text": [
      "/home/ubuntu/anaconda3/envs/tensorflow_p36/lib/python3.6/site-packages/h5py/__init__.py:36: FutureWarning: Conversion of the second argument of issubdtype from `float` to `np.floating` is deprecated. In future, it will be treated as `np.float64 == np.dtype(float).type`.\n",
      "  from ._conv import register_converters as _register_converters\n",
      "/home/ubuntu/anaconda3/envs/tensorflow_p36/lib/python3.6/site-packages/matplotlib/__init__.py:1067: UserWarning: Duplicate key in file \"/home/ubuntu/.config/matplotlib/matplotlibrc\", line #2\n",
      "  (fname, cnt))\n",
      "/home/ubuntu/anaconda3/envs/tensorflow_p36/lib/python3.6/site-packages/matplotlib/__init__.py:1067: UserWarning: Duplicate key in file \"/home/ubuntu/.config/matplotlib/matplotlibrc\", line #3\n",
      "  (fname, cnt))\n",
      "Using TensorFlow backend.\n"
     ]
    }
   ],
   "source": [
    "%load_ext autoreload\n",
    "%autoreload\n",
    "import dataset, config\n",
    "import tensorflow as tf\n",
    "import numpy as np\n",
    "import keras\n",
    "\n",
    "tf_config = tf.ConfigProto()\n",
    "tf_config.gpu_options.allow_growth=True\n",
    "keras.backend.tensorflow_backend.set_session(tf.Session(config=tf_config))"
   ]
  },
  {
   "cell_type": "code",
   "execution_count": 2,
   "metadata": {},
   "outputs": [
    {
     "name": "stdout",
     "output_type": "stream",
     "text": [
      "(<tf.Tensor 'IteratorGetNext:0' shape=<unknown> dtype=uint8>, <tf.Tensor 'IteratorGetNext:1' shape=<unknown> dtype=uint8>, <tf.Tensor 'IteratorGetNext:2' shape=<unknown> dtype=uint8>, <tf.Tensor 'IteratorGetNext:3' shape=<unknown> dtype=int32>, <tf.Tensor 'IteratorGetNext:4' shape=<unknown> dtype=int32>, <tf.Tensor 'IteratorGetNext:5' shape=<unknown> dtype=int32>, <tf.Tensor 'IteratorGetNext:6' shape=<unknown> dtype=int32>)\n"
     ]
    },
    {
     "data": {
      "text/plain": [
       "{'image': <tf.Tensor 'Cast:0' shape=(?, 800, 800, 3) dtype=float32>,\n",
       " 'exclude_mask': <tf.Tensor 'Cast_1:0' shape=(?, 800, 800) dtype=float32>,\n",
       " 'heatmap': <tf.Tensor 'Cast_2:0' shape=(?, 800, 800, 17) dtype=float32>,\n",
       " 'so_x': <tf.Tensor 'Cast_3:0' shape=(?, 800, 800, 17) dtype=float32>,\n",
       " 'so_y': <tf.Tensor 'Cast_4:0' shape=(?, 800, 800, 17) dtype=float32>,\n",
       " 'mo_x': <tf.Tensor 'Cast_5:0' shape=(?, 800, 800, 6) dtype=float32>,\n",
       " 'mo_y': <tf.Tensor 'Cast_6:0' shape=(?, 800, 800, 6) dtype=float32>}"
      ]
     },
     "execution_count": 2,
     "metadata": {},
     "output_type": "execute_result"
    }
   ],
   "source": [
    "\n",
    "TENSOR_INFO = [\n",
    "    {\n",
    "        'name': 'image',\n",
    "        'shape': (None, config.TAR_H, config.TAR_W, 3),\n",
    "        'type': tf.uint8,\n",
    "    },{\n",
    "        'name': 'exclude_mask',\n",
    "        'shape': (None, config.TAR_H, config.TAR_W),\n",
    "        'type': tf.uint8,\n",
    "    },{\n",
    "        'name': 'heatmap',\n",
    "        'shape': (None, config.TAR_H, config.TAR_W, config.NUM_KP),\n",
    "        'type': tf.uint8,\n",
    "    },{\n",
    "        'name': 'so_x',\n",
    "        'shape': (None, config.TAR_H, config.TAR_W, config.NUM_KP),\n",
    "        'type': tf.int32,\n",
    "    },{\n",
    "        'name': 'so_y',\n",
    "        'shape': (None, config.TAR_H, config.TAR_W, config.NUM_KP),\n",
    "        'type': tf.int32,\n",
    "    },{\n",
    "        'name': 'mo_x',\n",
    "        'shape': (None, config.TAR_H, config.TAR_W, config.NUM_EDGE),\n",
    "        'type': tf.int32,\n",
    "    },{\n",
    "        'name': 'mo_y',\n",
    "        'shape': (None, config.TAR_H, config.TAR_W, config.NUM_EDGE),\n",
    "        'type': tf.int32,\n",
    "    }]\n",
    "\n",
    "types = tuple(t['type'] for t in TENSOR_INFO)\n",
    "input_tensors = tf.data.Dataset.from_generator(dataset.load, types) \\\n",
    "                               .batch(config.BATCH_SIZE) \\\n",
    "                               .prefetch(config.PREFETCH_SIZE) \\\n",
    "                               .make_one_shot_iterator() \\\n",
    "                               .get_next()\n",
    "print(input_tensors)\n",
    "\n",
    " \n",
    "tensors = {}\n",
    "for i, t in zip(input_tensors, TENSOR_INFO):\n",
    "    i.set_shape(t['shape'])\n",
    "    tensors[t['name']] = keras.layers.Input(tensor=tf.cast(i, tf.float32))\n",
    "tensors"
   ]
  },
  {
   "cell_type": "code",
   "execution_count": 3,
   "metadata": {},
   "outputs": [],
   "source": [
    "from keras.applications.resnet50 import ResNet50\n",
    "from keras.preprocessing import image\n",
    "from keras.applications.resnet50 import preprocess_input, decode_predictions\n",
    "\n",
    "resnet_model = ResNet50(include_top=False,\n",
    "                        input_tensor=tensors['image'],\n",
    "                        weights=None,\n",
    "                        pooling=None,\n",
    "                        )\n",
    "res_out = resnet_model.layers[-2].output"
   ]
  },
  {
   "cell_type": "code",
   "execution_count": 4,
   "metadata": {
    "scrolled": false
   },
   "outputs": [],
   "source": [
    "def bilinear_resize(input_tensor): # resizes input tensor wrt. ref_tensor\n",
    "    return tf.image.resize_bilinear(input_tensor, size=(config.TAR_H, config.TAR_W))\n",
    "    H, W = ref_tensor.get_shape()[1], ref.get_shape()[2]\n",
    "    return tf.image.resize_nearest_neighbor(inputs, [H.value, W.value])\n",
    "\n",
    "heatmap = keras.layers.Conv2D(config.NUM_KP, kernel_size=(1, 1), activation='relu')(res_out)\n",
    "heatmap = keras.layers.Lambda(bilinear_resize)(heatmap)\n",
    "\n",
    "s_off_x = keras.layers.Conv2D(config.NUM_KP, kernel_size=(1, 1))(res_out)\n",
    "s_off_x = keras.layers.Lambda(bilinear_resize)(s_off_x)\n",
    "\n",
    "s_off_y = keras.layers.Conv2D(config.NUM_KP, kernel_size=(1, 1))(res_out)\n",
    "s_off_y = keras.layers.Lambda(bilinear_resize)(s_off_y)\n",
    "\n",
    "m_off_x = keras.layers.Conv2D(config.NUM_EDGE, kernel_size=(1, 1))(res_out)\n",
    "m_off_x = keras.layers.Lambda(bilinear_resize)(m_off_x)\n",
    "\n",
    "m_off_y = keras.layers.Conv2D(config.NUM_EDGE, kernel_size=(1, 1))(res_out)\n",
    "m_off_y = keras.layers.Lambda(bilinear_resize)(m_off_y)\n"
   ]
  },
  {
   "cell_type": "code",
   "execution_count": 10,
   "metadata": {
    "scrolled": false
   },
   "outputs": [
    {
     "name": "stdout",
     "output_type": "stream",
     "text": [
      "(<tf.Tensor 'IteratorGetNext:0' shape=(?, 800, 800, 3) dtype=uint8>, <tf.Tensor 'IteratorGetNext:1' shape=(?, 800, 800) dtype=uint8>, <tf.Tensor 'IteratorGetNext:2' shape=(?, 800, 800, 17) dtype=uint8>, <tf.Tensor 'IteratorGetNext:3' shape=(?, 800, 800, 17) dtype=int32>, <tf.Tensor 'IteratorGetNext:4' shape=(?, 800, 800, 17) dtype=int32>, <tf.Tensor 'IteratorGetNext:5' shape=(?, 800, 800, 6) dtype=int32>, <tf.Tensor 'IteratorGetNext:6' shape=(?, 800, 800, 6) dtype=int32>)\n"
     ]
    }
   ],
   "source": [
    "config.HEATMAP_LOSS_WEIGHT = 4.0\n",
    "config.SHORT_OFFSET_LOSS_WEIGHT = 2.0\n",
    "config.MIDDLE_OFFSET_LOSS_WEIGHT = 1.0\n",
    "\n",
    "config.MIDDLE_DISC_MAP = list(range(config.NUM_EDGE))\n",
    "losses = []\n",
    "\n",
    "def heatmap_loss(args):\n",
    "    true, pred, exclude_mask = args\n",
    "    loss = keras.backend.binary_crossentropy(tf.cast(true, tf.float32), pred)\n",
    "    loss = keras.backend.mean(loss, axis=-1, keepdims=True)\n",
    "    exclude = tf.expand_dims(tf.cast(exclude_mask, tf.float32), axis=-1)\n",
    "    loss = loss * exclude\n",
    "    loss = keras.backend.sum(loss) * config.HEATMAP_LOSS_WEIGHT\n",
    "    return loss\n",
    "\n",
    "losses.append(keras.layers.Lambda(heatmap_loss)([tensors['heatmap'], heatmap, tensors['exclude_mask']]))\n",
    "\n",
    "def short_offset_loss(args):\n",
    "    true, pred, exclude_mask, heatmap = args\n",
    "    loss = keras.backend.abs(tf.cast(true, tf.float32) - pred) \n",
    "    exclude = tf.expand_dims(tf.cast(exclude_mask, tf.float32), axis=-1)\n",
    "    exclude = exclude * tf.cast(heatmap, tf.float32)\n",
    "    loss = loss * exclude\n",
    "    loss = keras.backend.sum(loss) / (keras.backend.sum(exclude) + keras.backend.epsilon())\n",
    "    loss = loss * config.SHORT_OFFSET_LOSS_WEIGHT\n",
    "    return loss\n",
    "\n",
    "losses.append(keras.layers.Lambda(short_offset_loss)([tensors['so_x'], s_off_x, tensors['exclude_mask'], tensors['heatmap']]))\n",
    "losses.append(keras.layers.Lambda(short_offset_loss)([tensors['so_y'], s_off_y, tensors['exclude_mask'], tensors['heatmap']]))\n",
    "\n",
    "def mid_offset_loss(args):\n",
    "    true, pred, exclude_mask, heatmap = args\n",
    "    loss = keras.backend.abs(tf.cast(true, tf.float32) - pred)\n",
    "    exclude = tf.expand_dims(tf.cast(exclude_mask, tf.float32), axis=-1)\n",
    "    exclude = exclude * tf.cast(tf.gather(heatmap, config.MIDDLE_DISC_MAP, axis=-1), tf.float32)\n",
    "    loss = loss * exclude\n",
    "    loss = keras.backend.sum(loss) / (keras.backend.sum(exclude) + keras.backend.epsilon())\n",
    "    loss = loss * config.MIDDLE_OFFSET_LOSS_WEIGHT\n",
    "    return loss\n",
    "\n",
    "losses.append(keras.layers.Lambda(mid_offset_loss)([tensors['mo_x'], m_off_x, tensors['exclude_mask'], tensors['heatmap']]))\n",
    "losses.append(keras.layers.Lambda(mid_offset_loss)([tensors['mo_y'], m_off_y, tensors['exclude_mask'], tensors['heatmap']]))\n",
    "print(input_tensors)\n",
    "model = keras.models.Model(inputs = [tensors[t['name']] for t in TENSOR_INFO],\n",
    "                           outputs = [heatmap, s_off_x, s_off_y, m_off_x, m_off_y])\n",
    "#model = keras.models.Model(inputs = [keras.layers.Input(tensor=i) for i in input_tensors],\n",
    "#                           outputs = [heatmap, s_off_x, s_off_y, m_off_x, m_off_y])"
   ]
  },
  {
   "cell_type": "code",
   "execution_count": 11,
   "metadata": {},
   "outputs": [
    {
     "name": "stdout",
     "output_type": "stream",
     "text": [
      "[<tf.Tensor 'lambda_16/mul_1:0' shape=() dtype=float32>, <tf.Tensor 'lambda_17/mul_2:0' shape=() dtype=float32>, <tf.Tensor 'lambda_18/mul_2:0' shape=() dtype=float32>, <tf.Tensor 'lambda_19/mul_2:0' shape=() dtype=float32>, <tf.Tensor 'lambda_20/mul_2:0' shape=() dtype=float32>]\n"
     ]
    },
    {
     "name": "stderr",
     "output_type": "stream",
     "text": [
      "/home/ubuntu/anaconda3/envs/tensorflow_p36/lib/python3.6/site-packages/ipykernel_launcher.py:6: UserWarning: Output \"lambda_1\" missing from loss dictionary. We assume this was done on purpose, and we will not be expecting any data to be passed to \"lambda_1\" during training.\n",
      "  \n",
      "/home/ubuntu/anaconda3/envs/tensorflow_p36/lib/python3.6/site-packages/ipykernel_launcher.py:6: UserWarning: Output \"lambda_2\" missing from loss dictionary. We assume this was done on purpose, and we will not be expecting any data to be passed to \"lambda_2\" during training.\n",
      "  \n",
      "/home/ubuntu/anaconda3/envs/tensorflow_p36/lib/python3.6/site-packages/ipykernel_launcher.py:6: UserWarning: Output \"lambda_3\" missing from loss dictionary. We assume this was done on purpose, and we will not be expecting any data to be passed to \"lambda_3\" during training.\n",
      "  \n",
      "/home/ubuntu/anaconda3/envs/tensorflow_p36/lib/python3.6/site-packages/ipykernel_launcher.py:6: UserWarning: Output \"lambda_4\" missing from loss dictionary. We assume this was done on purpose, and we will not be expecting any data to be passed to \"lambda_4\" during training.\n",
      "  \n",
      "/home/ubuntu/anaconda3/envs/tensorflow_p36/lib/python3.6/site-packages/ipykernel_launcher.py:6: UserWarning: Output \"lambda_5\" missing from loss dictionary. We assume this was done on purpose, and we will not be expecting any data to be passed to \"lambda_5\" during training.\n",
      "  \n"
     ]
    },
    {
     "name": "stdout",
     "output_type": "stream",
     "text": [
      "Epoch 1/500\n",
      "100/100 [==============================] - 112s 1s/step - loss: 2737.8141\n",
      "Epoch 2/500\n",
      "100/100 [==============================] - 97s 973ms/step - loss: 1930.9476\n",
      "Epoch 3/500\n",
      "100/100 [==============================] - 97s 973ms/step - loss: 3047.8538\n",
      "Epoch 4/500\n",
      "100/100 [==============================] - 97s 972ms/step - loss: 1632.9434\n",
      "Epoch 5/500\n",
      "100/100 [==============================] - 97s 971ms/step - loss: 6095.2388\n",
      "Epoch 6/500\n",
      "100/100 [==============================] - 97s 972ms/step - loss: 779.2318\n",
      "Epoch 7/500\n",
      "100/100 [==============================] - 97s 973ms/step - loss: 2550.1470\n",
      "Epoch 8/500\n",
      "100/100 [==============================] - 97s 973ms/step - loss: 4867.9013\n",
      "Epoch 9/500\n",
      "100/100 [==============================] - 97s 972ms/step - loss: 1709.8971\n",
      "Epoch 10/500\n",
      "100/100 [==============================] - 97s 971ms/step - loss: 4632.0477\n",
      "Epoch 11/500\n",
      "100/100 [==============================] - 97s 973ms/step - loss: 4140.8202\n",
      "Epoch 12/500\n",
      "100/100 [==============================] - 97s 971ms/step - loss: 3554.6949\n",
      "Epoch 13/500\n",
      "100/100 [==============================] - 97s 972ms/step - loss: 1718.2721\n",
      "Epoch 14/500\n",
      "100/100 [==============================] - 97s 972ms/step - loss: 2222.9494\n",
      "Epoch 15/500\n",
      "100/100 [==============================] - 97s 973ms/step - loss: 3589.2490\n",
      "Epoch 16/500\n",
      "100/100 [==============================] - 97s 972ms/step - loss: 3025.4394\n",
      "Epoch 17/500\n",
      "100/100 [==============================] - 97s 971ms/step - loss: 2536.1700\n",
      "Epoch 18/500\n",
      "100/100 [==============================] - 97s 971ms/step - loss: 2658.3481\n",
      "Epoch 19/500\n",
      "100/100 [==============================] - 97s 973ms/step - loss: 2418.1567\n",
      "Epoch 20/500\n",
      "100/100 [==============================] - 97s 973ms/step - loss: 2871.1653\n",
      "Epoch 21/500\n",
      "100/100 [==============================] - 97s 972ms/step - loss: 2254.3049\n",
      "Epoch 22/500\n",
      "100/100 [==============================] - 97s 972ms/step - loss: 2030.9823\n",
      "Epoch 23/500\n",
      "100/100 [==============================] - 97s 973ms/step - loss: 1766.9111\n",
      "Epoch 24/500\n",
      "100/100 [==============================] - 97s 972ms/step - loss: 4608.4430\n",
      "Epoch 25/500\n",
      "100/100 [==============================] - 97s 972ms/step - loss: 967.9433\n",
      "Epoch 26/500\n",
      "100/100 [==============================] - 97s 973ms/step - loss: 6801.6056\n",
      "Epoch 27/500\n",
      "100/100 [==============================] - 97s 972ms/step - loss: 1305.1431\n",
      "Epoch 28/500\n",
      "100/100 [==============================] - 97s 972ms/step - loss: 6210.1285\n",
      "Epoch 29/500\n",
      "  8/100 [=>............................] - ETA: 1:29 - loss: 3469.2203"
     ]
    },
    {
     "ename": "KeyboardInterrupt",
     "evalue": "",
     "output_type": "error",
     "traceback": [
      "\u001b[0;31m--------------\u001b[0m",
      "\u001b[0;31mKeyboardInterrupt\u001b[0mTraceback (most recent call last)",
      "\u001b[0;32m<ipython-input-11-e232e3b8a877>\u001b[0m in \u001b[0;36m<module>\u001b[0;34m()\u001b[0m\n\u001b[1;32m     12\u001b[0m model.fit(steps_per_epoch=100,\n\u001b[1;32m     13\u001b[0m           \u001b[0mepochs\u001b[0m\u001b[0;34m=\u001b[0m\u001b[0mconfig\u001b[0m\u001b[0;34m.\u001b[0m\u001b[0mNUM_EPOCHS\u001b[0m\u001b[0;34m,\u001b[0m\u001b[0;34m\u001b[0m\u001b[0m\n\u001b[0;32m---> 14\u001b[0;31m           callbacks=callbacks)\n\u001b[0m",
      "\u001b[0;32m~/anaconda3/envs/tensorflow_p36/lib/python3.6/site-packages/keras/engine/training.py\u001b[0m in \u001b[0;36mfit\u001b[0;34m(self, x, y, batch_size, epochs, verbose, callbacks, validation_split, validation_data, shuffle, class_weight, sample_weight, initial_epoch, steps_per_epoch, validation_steps, **kwargs)\u001b[0m\n\u001b[1;32m   1703\u001b[0m                               \u001b[0minitial_epoch\u001b[0m\u001b[0;34m=\u001b[0m\u001b[0minitial_epoch\u001b[0m\u001b[0;34m,\u001b[0m\u001b[0;34m\u001b[0m\u001b[0m\n\u001b[1;32m   1704\u001b[0m                               \u001b[0msteps_per_epoch\u001b[0m\u001b[0;34m=\u001b[0m\u001b[0msteps_per_epoch\u001b[0m\u001b[0;34m,\u001b[0m\u001b[0;34m\u001b[0m\u001b[0m\n\u001b[0;32m-> 1705\u001b[0;31m                               validation_steps=validation_steps)\n\u001b[0m\u001b[1;32m   1706\u001b[0m \u001b[0;34m\u001b[0m\u001b[0m\n\u001b[1;32m   1707\u001b[0m     def evaluate(self, x=None, y=None,\n",
      "\u001b[0;32m~/anaconda3/envs/tensorflow_p36/lib/python3.6/site-packages/keras/engine/training.py\u001b[0m in \u001b[0;36m_fit_loop\u001b[0;34m(self, f, ins, out_labels, batch_size, epochs, verbose, callbacks, val_f, val_ins, shuffle, callback_metrics, initial_epoch, steps_per_epoch, validation_steps)\u001b[0m\n\u001b[1;32m   1187\u001b[0m                     \u001b[0mbatch_logs\u001b[0m\u001b[0;34m[\u001b[0m\u001b[0;34m'size'\u001b[0m\u001b[0;34m]\u001b[0m \u001b[0;34m=\u001b[0m \u001b[0;36m1\u001b[0m\u001b[0;34m\u001b[0m\u001b[0m\n\u001b[1;32m   1188\u001b[0m                     \u001b[0mcallbacks\u001b[0m\u001b[0;34m.\u001b[0m\u001b[0mon_batch_begin\u001b[0m\u001b[0;34m(\u001b[0m\u001b[0mstep_index\u001b[0m\u001b[0;34m,\u001b[0m \u001b[0mbatch_logs\u001b[0m\u001b[0;34m)\u001b[0m\u001b[0;34m\u001b[0m\u001b[0m\n\u001b[0;32m-> 1189\u001b[0;31m                     \u001b[0mouts\u001b[0m \u001b[0;34m=\u001b[0m \u001b[0mf\u001b[0m\u001b[0;34m(\u001b[0m\u001b[0mins\u001b[0m\u001b[0;34m)\u001b[0m\u001b[0;34m\u001b[0m\u001b[0m\n\u001b[0m\u001b[1;32m   1190\u001b[0m \u001b[0;34m\u001b[0m\u001b[0m\n\u001b[1;32m   1191\u001b[0m                     \u001b[0;32mif\u001b[0m \u001b[0;32mnot\u001b[0m \u001b[0misinstance\u001b[0m\u001b[0;34m(\u001b[0m\u001b[0mouts\u001b[0m\u001b[0;34m,\u001b[0m \u001b[0mlist\u001b[0m\u001b[0;34m)\u001b[0m\u001b[0;34m:\u001b[0m\u001b[0;34m\u001b[0m\u001b[0m\n",
      "\u001b[0;32m~/anaconda3/envs/tensorflow_p36/lib/python3.6/site-packages/keras/backend/tensorflow_backend.py\u001b[0m in \u001b[0;36m__call__\u001b[0;34m(self, inputs)\u001b[0m\n\u001b[1;32m   2480\u001b[0m         \u001b[0msession\u001b[0m \u001b[0;34m=\u001b[0m \u001b[0mget_session\u001b[0m\u001b[0;34m(\u001b[0m\u001b[0;34m)\u001b[0m\u001b[0;34m\u001b[0m\u001b[0m\n\u001b[1;32m   2481\u001b[0m         updated = session.run(fetches=fetches, feed_dict=feed_dict,\n\u001b[0;32m-> 2482\u001b[0;31m                               **self.session_kwargs)\n\u001b[0m\u001b[1;32m   2483\u001b[0m         \u001b[0;32mreturn\u001b[0m \u001b[0mupdated\u001b[0m\u001b[0;34m[\u001b[0m\u001b[0;34m:\u001b[0m\u001b[0mlen\u001b[0m\u001b[0;34m(\u001b[0m\u001b[0mself\u001b[0m\u001b[0;34m.\u001b[0m\u001b[0moutputs\u001b[0m\u001b[0;34m)\u001b[0m\u001b[0;34m]\u001b[0m\u001b[0;34m\u001b[0m\u001b[0m\n\u001b[1;32m   2484\u001b[0m \u001b[0;34m\u001b[0m\u001b[0m\n",
      "\u001b[0;32m~/anaconda3/envs/tensorflow_p36/lib/python3.6/site-packages/tensorflow/python/client/session.py\u001b[0m in \u001b[0;36mrun\u001b[0;34m(self, fetches, feed_dict, options, run_metadata)\u001b[0m\n\u001b[1;32m    898\u001b[0m     \u001b[0;32mtry\u001b[0m\u001b[0;34m:\u001b[0m\u001b[0;34m\u001b[0m\u001b[0m\n\u001b[1;32m    899\u001b[0m       result = self._run(None, fetches, feed_dict, options_ptr,\n\u001b[0;32m--> 900\u001b[0;31m                          run_metadata_ptr)\n\u001b[0m\u001b[1;32m    901\u001b[0m       \u001b[0;32mif\u001b[0m \u001b[0mrun_metadata\u001b[0m\u001b[0;34m:\u001b[0m\u001b[0;34m\u001b[0m\u001b[0m\n\u001b[1;32m    902\u001b[0m         \u001b[0mproto_data\u001b[0m \u001b[0;34m=\u001b[0m \u001b[0mtf_session\u001b[0m\u001b[0;34m.\u001b[0m\u001b[0mTF_GetBuffer\u001b[0m\u001b[0;34m(\u001b[0m\u001b[0mrun_metadata_ptr\u001b[0m\u001b[0;34m)\u001b[0m\u001b[0;34m\u001b[0m\u001b[0m\n",
      "\u001b[0;32m~/anaconda3/envs/tensorflow_p36/lib/python3.6/site-packages/tensorflow/python/client/session.py\u001b[0m in \u001b[0;36m_run\u001b[0;34m(self, handle, fetches, feed_dict, options, run_metadata)\u001b[0m\n\u001b[1;32m   1133\u001b[0m     \u001b[0;32mif\u001b[0m \u001b[0mfinal_fetches\u001b[0m \u001b[0;32mor\u001b[0m \u001b[0mfinal_targets\u001b[0m \u001b[0;32mor\u001b[0m \u001b[0;34m(\u001b[0m\u001b[0mhandle\u001b[0m \u001b[0;32mand\u001b[0m \u001b[0mfeed_dict_tensor\u001b[0m\u001b[0;34m)\u001b[0m\u001b[0;34m:\u001b[0m\u001b[0;34m\u001b[0m\u001b[0m\n\u001b[1;32m   1134\u001b[0m       results = self._do_run(handle, final_targets, final_fetches,\n\u001b[0;32m-> 1135\u001b[0;31m                              feed_dict_tensor, options, run_metadata)\n\u001b[0m\u001b[1;32m   1136\u001b[0m     \u001b[0;32melse\u001b[0m\u001b[0;34m:\u001b[0m\u001b[0;34m\u001b[0m\u001b[0m\n\u001b[1;32m   1137\u001b[0m       \u001b[0mresults\u001b[0m \u001b[0;34m=\u001b[0m \u001b[0;34m[\u001b[0m\u001b[0;34m]\u001b[0m\u001b[0;34m\u001b[0m\u001b[0m\n",
      "\u001b[0;32m~/anaconda3/envs/tensorflow_p36/lib/python3.6/site-packages/tensorflow/python/client/session.py\u001b[0m in \u001b[0;36m_do_run\u001b[0;34m(self, handle, target_list, fetch_list, feed_dict, options, run_metadata)\u001b[0m\n\u001b[1;32m   1314\u001b[0m     \u001b[0;32mif\u001b[0m \u001b[0mhandle\u001b[0m \u001b[0;32mis\u001b[0m \u001b[0;32mNone\u001b[0m\u001b[0;34m:\u001b[0m\u001b[0;34m\u001b[0m\u001b[0m\n\u001b[1;32m   1315\u001b[0m       return self._do_call(_run_fn, feeds, fetches, targets, options,\n\u001b[0;32m-> 1316\u001b[0;31m                            run_metadata)\n\u001b[0m\u001b[1;32m   1317\u001b[0m     \u001b[0;32melse\u001b[0m\u001b[0;34m:\u001b[0m\u001b[0;34m\u001b[0m\u001b[0m\n\u001b[1;32m   1318\u001b[0m       \u001b[0;32mreturn\u001b[0m \u001b[0mself\u001b[0m\u001b[0;34m.\u001b[0m\u001b[0m_do_call\u001b[0m\u001b[0;34m(\u001b[0m\u001b[0m_prun_fn\u001b[0m\u001b[0;34m,\u001b[0m \u001b[0mhandle\u001b[0m\u001b[0;34m,\u001b[0m \u001b[0mfeeds\u001b[0m\u001b[0;34m,\u001b[0m \u001b[0mfetches\u001b[0m\u001b[0;34m)\u001b[0m\u001b[0;34m\u001b[0m\u001b[0m\n",
      "\u001b[0;32m~/anaconda3/envs/tensorflow_p36/lib/python3.6/site-packages/tensorflow/python/client/session.py\u001b[0m in \u001b[0;36m_do_call\u001b[0;34m(self, fn, *args)\u001b[0m\n\u001b[1;32m   1320\u001b[0m   \u001b[0;32mdef\u001b[0m \u001b[0m_do_call\u001b[0m\u001b[0;34m(\u001b[0m\u001b[0mself\u001b[0m\u001b[0;34m,\u001b[0m \u001b[0mfn\u001b[0m\u001b[0;34m,\u001b[0m \u001b[0;34m*\u001b[0m\u001b[0margs\u001b[0m\u001b[0;34m)\u001b[0m\u001b[0;34m:\u001b[0m\u001b[0;34m\u001b[0m\u001b[0m\n\u001b[1;32m   1321\u001b[0m     \u001b[0;32mtry\u001b[0m\u001b[0;34m:\u001b[0m\u001b[0;34m\u001b[0m\u001b[0m\n\u001b[0;32m-> 1322\u001b[0;31m       \u001b[0;32mreturn\u001b[0m \u001b[0mfn\u001b[0m\u001b[0;34m(\u001b[0m\u001b[0;34m*\u001b[0m\u001b[0margs\u001b[0m\u001b[0;34m)\u001b[0m\u001b[0;34m\u001b[0m\u001b[0m\n\u001b[0m\u001b[1;32m   1323\u001b[0m     \u001b[0;32mexcept\u001b[0m \u001b[0merrors\u001b[0m\u001b[0;34m.\u001b[0m\u001b[0mOpError\u001b[0m \u001b[0;32mas\u001b[0m \u001b[0me\u001b[0m\u001b[0;34m:\u001b[0m\u001b[0;34m\u001b[0m\u001b[0m\n\u001b[1;32m   1324\u001b[0m       \u001b[0mmessage\u001b[0m \u001b[0;34m=\u001b[0m \u001b[0mcompat\u001b[0m\u001b[0;34m.\u001b[0m\u001b[0mas_text\u001b[0m\u001b[0;34m(\u001b[0m\u001b[0me\u001b[0m\u001b[0;34m.\u001b[0m\u001b[0mmessage\u001b[0m\u001b[0;34m)\u001b[0m\u001b[0;34m\u001b[0m\u001b[0m\n",
      "\u001b[0;32m~/anaconda3/envs/tensorflow_p36/lib/python3.6/site-packages/tensorflow/python/client/session.py\u001b[0m in \u001b[0;36m_run_fn\u001b[0;34m(feed_dict, fetch_list, target_list, options, run_metadata)\u001b[0m\n\u001b[1;32m   1305\u001b[0m       \u001b[0mself\u001b[0m\u001b[0;34m.\u001b[0m\u001b[0m_extend_graph\u001b[0m\u001b[0;34m(\u001b[0m\u001b[0;34m)\u001b[0m\u001b[0;34m\u001b[0m\u001b[0m\n\u001b[1;32m   1306\u001b[0m       return self._call_tf_sessionrun(\n\u001b[0;32m-> 1307\u001b[0;31m           options, feed_dict, fetch_list, target_list, run_metadata)\n\u001b[0m\u001b[1;32m   1308\u001b[0m \u001b[0;34m\u001b[0m\u001b[0m\n\u001b[1;32m   1309\u001b[0m     \u001b[0;32mdef\u001b[0m \u001b[0m_prun_fn\u001b[0m\u001b[0;34m(\u001b[0m\u001b[0mhandle\u001b[0m\u001b[0;34m,\u001b[0m \u001b[0mfeed_dict\u001b[0m\u001b[0;34m,\u001b[0m \u001b[0mfetch_list\u001b[0m\u001b[0;34m)\u001b[0m\u001b[0;34m:\u001b[0m\u001b[0;34m\u001b[0m\u001b[0m\n",
      "\u001b[0;32m~/anaconda3/envs/tensorflow_p36/lib/python3.6/site-packages/tensorflow/python/client/session.py\u001b[0m in \u001b[0;36m_call_tf_sessionrun\u001b[0;34m(self, options, feed_dict, fetch_list, target_list, run_metadata)\u001b[0m\n\u001b[1;32m   1407\u001b[0m       return tf_session.TF_SessionRun_wrapper(\n\u001b[1;32m   1408\u001b[0m           \u001b[0mself\u001b[0m\u001b[0;34m.\u001b[0m\u001b[0m_session\u001b[0m\u001b[0;34m,\u001b[0m \u001b[0moptions\u001b[0m\u001b[0;34m,\u001b[0m \u001b[0mfeed_dict\u001b[0m\u001b[0;34m,\u001b[0m \u001b[0mfetch_list\u001b[0m\u001b[0;34m,\u001b[0m \u001b[0mtarget_list\u001b[0m\u001b[0;34m,\u001b[0m\u001b[0;34m\u001b[0m\u001b[0m\n\u001b[0;32m-> 1409\u001b[0;31m           run_metadata)\n\u001b[0m\u001b[1;32m   1410\u001b[0m     \u001b[0;32melse\u001b[0m\u001b[0;34m:\u001b[0m\u001b[0;34m\u001b[0m\u001b[0m\n\u001b[1;32m   1411\u001b[0m       \u001b[0;32mwith\u001b[0m \u001b[0merrors\u001b[0m\u001b[0;34m.\u001b[0m\u001b[0mraise_exception_on_not_ok_status\u001b[0m\u001b[0;34m(\u001b[0m\u001b[0;34m)\u001b[0m \u001b[0;32mas\u001b[0m \u001b[0mstatus\u001b[0m\u001b[0;34m:\u001b[0m\u001b[0;34m\u001b[0m\u001b[0m\n",
      "\u001b[0;31mKeyboardInterrupt\u001b[0m: "
     ]
    }
   ],
   "source": [
    "config.NUM_EPOCHS = 500\n",
    "print(losses)\n",
    "for loss in losses:\n",
    "    model.add_loss(loss)\n",
    "SAVE_MODEL_FILE = 'model_output'\n",
    "model.compile(optimizer=keras.optimizers.Adam(), target_tensors=None, loss=None)\n",
    "\n",
    "def save_model(epoch, logs):\n",
    "    model.save_weights(SAVE_MODEL_FILE)\n",
    "callbacks = [keras.callbacks.LambdaCallback(on_epoch_end=save_model)]\n",
    "\n",
    "model.fit(steps_per_epoch=100,\n",
    "          epochs=config.NUM_EPOCHS,\n",
    "          callbacks=callbacks)"
   ]
  },
  {
   "cell_type": "code",
   "execution_count": null,
   "metadata": {},
   "outputs": [],
   "source": [
    "outputs = model.predict(x=None,\n",
    "                       steps=1,)"
   ]
  },
  {
   "cell_type": "code",
   "execution_count": null,
   "metadata": {},
   "outputs": [],
   "source": [
    "outputs.shape"
   ]
  },
  {
   "cell_type": "code",
   "execution_count": null,
   "metadata": {},
   "outputs": [],
   "source": [
    "from matplotlib import pyplot as plt\n",
    "\n",
    "def overlay(img, over, alpha=0.5):\n",
    "    out = img.copy()\n",
    "    if img.max() > 1.:\n",
    "        out = out / 255.\n",
    "    out *= 1-alpha\n",
    "    if len(over.shape)==2:\n",
    "        out += alpha*over[:,:,np.newaxis]\n",
    "    else:\n",
    "        out += alpha*over    \n",
    "    return out\n",
    "Rshoulder_map = outputs[0,:,:,0]\n",
    "print(Rshoulder_map)\n",
    "plt.figure()\n",
    "plt.imshow(overlay(img, Rshoulder_map, alpha=0.7))"
   ]
  },
  {
   "cell_type": "code",
   "execution_count": null,
   "metadata": {},
   "outputs": [],
   "source": [
    "t1 = np.full((config.NUM_KP, 3), 2)\n",
    "t2 = np.full(config.NUM_KP, 0)"
   ]
  },
  {
   "cell_type": "code",
   "execution_count": null,
   "metadata": {},
   "outputs": [],
   "source": [
    "t1[np.arange(config.NUM_KP), t2[np.arange(config.NUM_KP)]:]"
   ]
  },
  {
   "cell_type": "code",
   "execution_count": null,
   "metadata": {},
   "outputs": [],
   "source": []
  }
 ],
 "metadata": {
  "kernelspec": {
   "display_name": "Python 3",
   "language": "python",
   "name": "python3"
  },
  "language_info": {
   "codemirror_mode": {
    "name": "ipython",
    "version": 3
   },
   "file_extension": ".py",
   "mimetype": "text/x-python",
   "name": "python",
   "nbconvert_exporter": "python",
   "pygments_lexer": "ipython3",
   "version": "3.6.4"
  }
 },
 "nbformat": 4,
 "nbformat_minor": 2
}
